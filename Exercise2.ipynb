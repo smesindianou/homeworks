{
  "nbformat": 4,
  "nbformat_minor": 0,
  "metadata": {
    "colab": {
      "provenance": [],
      "include_colab_link": true
    },
    "kernelspec": {
      "name": "python3",
      "display_name": "Python 3"
    },
    "language_info": {
      "name": "python"
    }
  },
  "cells": [
    {
      "cell_type": "markdown",
      "metadata": {
        "id": "view-in-github",
        "colab_type": "text"
      },
      "source": [
        "<a href=\"https://colab.research.google.com/github/smesindianou/homeworks/blob/main/Exercise2.ipynb\" target=\"_parent\"><img src=\"https://colab.research.google.com/assets/colab-badge.svg\" alt=\"Open In Colab\"/></a>"
      ]
    },
    {
      "cell_type": "markdown",
      "source": [
        "### **Άσκηση 1**:\n",
        "\n",
        "Χρησιμοποιώντας τις ιδιότητες/λειτουργίες των λιστών, υπολογίστε το μέσο όρο των βαθμών σε 3 μαθήματα, με 2 τρόπους, που περιγράφονται στα hints.\n",
        "\n",
        "Στη συνέχεια προσθέστε το βαθμό ενός ακόμα μαθήματος και ξαναϋπολογίστε το μέσο όρο και στρογγυλοποιήστε τον ώστε να μην έχει κανένα δεκαδικό ψηφίο.\n",
        "\n",
        "Τέλος, βρείτε το μεγαλύτερο βαθμό, τον μικρότερο βαθμό και το πλήθος των βαθμών.\n",
        "\n",
        "*Hints*:\n",
        "- φτιάξτε μια μεταβλητή για το βαθμό κάθε μαθήματος\n",
        "- φτιάξτε μια λίστα που θα περιέχει τις παραπάνω μεταβλητές\n",
        "- χρησιμοποιήστε τη συνάρτηση ```mean``` της βιβλιοθήκης ```statistics``` για να υπολογίσετε το μέσο όρο (from statistics import mean) - 1ος τρόπος\n",
        "- χρησιμοποιήστε τις συναρτήσεις ```sum()``` και ```len()``` για λίστες, για να εφαρμόσετε τον τύπο υπολογισμού του μέσου όρου: ```<άθροισμα βαθμών> / <πλήθος βαθμών>``` - 2ος τρόπος\n",
        "- χρησιμοποιήστε τη συνάρτηση ```round()``` για να στογγυλοποιήσετε το μέσο όρο\n",
        "- χρησιμοποιήστε τις συναρτήσεις ```max()```, ```min()``` και ```len()``` για να βρείτε αντίστοιχα το μεγαλύτερο βαθμό, τον μικρότερο βαθμό και το πλήθος των βαθμών\n",
        "\n",
        "*Tips*:\n",
        "- γράψτε μία-μία τις εντολές σε διαφορετικά κελιά και τυπώνετε το αποτέλεσμα της κάθε εντολής για να ελέγχετε το τι κάνετε\n",
        "- συμβουλευτείτε / αποδεχθείτε τις προτάσεις που σας κάνει το Gemini καθώς πληκτρολογείτε τις εντολές, πατώντας Tab - κάνετε διορθώσεις όπου χρειάζεται.\n"
      ],
      "metadata": {
        "id": "rUaKYeb1UuMb"
      }
    },
    {
      "cell_type": "code",
      "source": [
        "grade1 = 10\n",
        "grade2 = 10\n",
        "grade3 = 8"
      ],
      "metadata": {
        "id": "k8V_N7g6mKen"
      },
      "execution_count": 2,
      "outputs": []
    },
    {
      "cell_type": "code",
      "source": [
        "grades = [grade1, grade2, grade3]"
      ],
      "metadata": {
        "id": "CF17TBkWmJYc"
      },
      "execution_count": 3,
      "outputs": []
    },
    {
      "cell_type": "code",
      "source": [
        "from statistics import mean\n",
        "m_o = mean(grades)\n",
        "print ( m_o)"
      ],
      "metadata": {
        "colab": {
          "base_uri": "https://localhost:8080/"
        },
        "id": "2-UIpqs0O3d3",
        "outputId": "461a4e36-d9b2-4580-a99e-d79da0520fe7"
      },
      "execution_count": 4,
      "outputs": [
        {
          "output_type": "stream",
          "name": "stdout",
          "text": [
            "9.333333333333334\n"
          ]
        }
      ]
    },
    {
      "cell_type": "code",
      "source": [
        "m_0_2 = sum(grades) / len(grades)\n",
        "print (m_0_2)"
      ],
      "metadata": {
        "colab": {
          "base_uri": "https://localhost:8080/"
        },
        "id": "CxJr3wrzPETu",
        "outputId": "39cf2586-66d1-49cc-a1aa-88b2d9e291d4"
      },
      "execution_count": 5,
      "outputs": [
        {
          "output_type": "stream",
          "name": "stdout",
          "text": [
            "9.333333333333334\n"
          ]
        }
      ]
    },
    {
      "cell_type": "code",
      "source": [
        "grade4 = 9\n",
        "grades.append(grade4)\n",
        "print (grades)"
      ],
      "metadata": {
        "colab": {
          "base_uri": "https://localhost:8080/"
        },
        "id": "RTRGZFsubWx0",
        "outputId": "95d72f63-eda5-4c93-aafa-200e1b3ca12d"
      },
      "execution_count": 6,
      "outputs": [
        {
          "output_type": "stream",
          "name": "stdout",
          "text": [
            "[10, 10, 8, 9]\n"
          ]
        }
      ]
    },
    {
      "cell_type": "code",
      "source": [
        "m_o_3 = mean(grades)\n",
        "print (m_o_3)"
      ],
      "metadata": {
        "colab": {
          "base_uri": "https://localhost:8080/"
        },
        "id": "sCV7sf4tbsq8",
        "outputId": "e7cd309e-da5b-46b9-a4c3-8cd60378f0bc"
      },
      "execution_count": 7,
      "outputs": [
        {
          "output_type": "stream",
          "name": "stdout",
          "text": [
            "9.25\n"
          ]
        }
      ]
    },
    {
      "cell_type": "code",
      "source": [
        "print (round (m_o_3))"
      ],
      "metadata": {
        "colab": {
          "base_uri": "https://localhost:8080/"
        },
        "id": "qKr-YAz0PM9s",
        "outputId": "e25f82aa-e74c-4f43-8a6b-fc65d8c78d5c"
      },
      "execution_count": 8,
      "outputs": [
        {
          "output_type": "stream",
          "name": "stdout",
          "text": [
            "9\n"
          ]
        }
      ]
    },
    {
      "cell_type": "code",
      "source": [
        "print (max (grades))"
      ],
      "metadata": {
        "colab": {
          "base_uri": "https://localhost:8080/"
        },
        "id": "_s8W3icMPcw1",
        "outputId": "542be97c-9583-4b75-c69b-3f02a70108dc"
      },
      "execution_count": 9,
      "outputs": [
        {
          "output_type": "stream",
          "name": "stdout",
          "text": [
            "10\n"
          ]
        }
      ]
    },
    {
      "cell_type": "code",
      "source": [
        "print (min (grades))"
      ],
      "metadata": {
        "colab": {
          "base_uri": "https://localhost:8080/"
        },
        "id": "vMoeKcQQPgo-",
        "outputId": "bb666ada-3a71-4213-941d-fab634dcb487"
      },
      "execution_count": 10,
      "outputs": [
        {
          "output_type": "stream",
          "name": "stdout",
          "text": [
            "8\n"
          ]
        }
      ]
    },
    {
      "cell_type": "code",
      "source": [
        "print (len (grades))"
      ],
      "metadata": {
        "colab": {
          "base_uri": "https://localhost:8080/"
        },
        "id": "KnbTCzrjPjQV",
        "outputId": "948876fd-8654-4ff7-e653-aed6b6d3afe7"
      },
      "execution_count": 11,
      "outputs": [
        {
          "output_type": "stream",
          "name": "stdout",
          "text": [
            "4\n"
          ]
        }
      ]
    },
    {
      "cell_type": "markdown",
      "source": [
        "\n",
        "\n",
        "---\n",
        "\n"
      ],
      "metadata": {
        "id": "nQ3CwAZKdbX9"
      }
    },
    {
      "cell_type": "markdown",
      "source": [
        "### **Άσκηση 2**:\n",
        "\n",
        "Μια συνήθης τυποποιημένη μορφή καταγραφής της ημερομηνίας δημοσίευσης των άρθρων στα ειδησεογραφικά sites είναι η εξής: ```2025-03-04T12:07:19+02:00``` και ονομάζεται ```datetime```.\n",
        "\n",
        "- το κομμάτι ```2025-03-04``` αναφέρεται στα ```έτος-μήνας-ημέρα```\n",
        "- το ```Τ``` υποδηλώνει ότι ακολουθεί η ώρα\n",
        "- το κομμάτι ```12:07:19``` αναφέρεται στα ```ώρα:λεπτά:δευτερόλεπτα```\n",
        "- το κομμάτι ```+02:00``` αναφέρεται στη διαφορά ώρας σε σχέση με την Παγκόσμια Συντονισμένη Ώρα (UTC - Coordinated Universal Time).\n",
        "\n",
        "**Άσκηση 2**:\n",
        "\n",
        "Ξεκινώντας από μια μεταβλητή με όνομα dateTime και τιμή την παραπάνω ημερομηνία-ώρα (2025-03-04T12:07:19+02:00), δημιουργήστε δύο μεταβλητές με ονόματα Date και Time στις οποίες θα αποθηκεύσετε αντίστοιχα την ημερομηνία και την ώρα.\n",
        "\n",
        "Στη συνέχεια, χρησιμοποιώντας τις μεταβλητές Date και Time που φτιάξατε, δημιουργήστε μια νέα μεταβλητή με όνομα custom_datetime η τιμή της οποίας θα είναι ένα string που θα περιέχει την ημέρομηνία και την ώρα στη μορφή: \"έτος, μήνας, ημέρα, ώρα:λεπτά:δευτερόλεπτα\" και τυπώστε τη στην οθόνη.\n",
        "\n",
        "*Hints*:\n",
        "- η τιμή της μεταβλητής dateTime είναι string, άρα μπορούμε να δουλέψουμε με αυτή σαν να είναι λίστα και να απομονώσουμε κομμάτια της χρησιμοποιώντας το index του πρώτου χαρακτήρα και του επόμενου από τον τελευταίο χαρακτήρα που θέλουμε (π.χ. dateTime[firstIndex:lastIndex+1])\n",
        "- ο επόμενος από τον τελευταίο χαρακτήρα της ημερομηνίας είναι το \"Τ\"\n",
        "- ο επόμενος από τον τελευταίο χαρακτήρα της ώρας είναι το \"+\"\n",
        "- μπορούμε να βρούμε το index ενός χαρακτήρα σε ένα string με τη μέθοδο index()\n",
        "- μπορούμε να αντικαταστήσουμε έναν χαρακτήρα σε ένα string με έναν άλλο χαρακτήρα με την εντολή replace(). Π.χ. μπορούμε να αντικαταστήσουμε σε ένα string τα κόμματα με τελείες με την εντολή string1.replace(\",\", \".\")\n",
        "- μπορούμε να ενώσουμε strings με το +. Π.χ. string3 = string1 + \", \" + string2 (το \", \" παρεμβάλει ανάμεσα στα αρχικά strings ένα κόμμα ακολουθούμενο από ένα κενό)\n",
        "\n",
        "*Tips*:\n",
        "- γράψτε μία-μία τις εντολές σε διαφορετικά κελιά και τυπώνετε το αποτέλεσμα της κάθε εντολής για να ελέγχετε το τι κάνετε\n",
        "- συμβουλευτείτε / αποδεχθείτε τις προτάσεις που σας κάνει το Gemini καθώς πληκτρολογείτε τις εντολές, πατώντας Tab - κάνετε διορθώσεις όπου χρειάζεται.\n",
        "\n"
      ],
      "metadata": {
        "id": "BQA7FXLgFHKA"
      }
    },
    {
      "cell_type": "markdown",
      "source": [
        "\n",
        "\n",
        "```\n",
        "Τρόπος 1\n",
        "```\n",
        "\n"
      ],
      "metadata": {
        "id": "0LIMi1Wu7bI5"
      }
    },
    {
      "cell_type": "code",
      "source": [
        "dateTime = \"2025-03-04T12:07:19+02:00\""
      ],
      "metadata": {
        "id": "RNqXTJxHmOcQ"
      },
      "execution_count": null,
      "outputs": []
    },
    {
      "cell_type": "code",
      "source": [
        "T = dateTime.index(\"T\")\n",
        "Date = dateTime[0:T]\n",
        "print (Date)"
      ],
      "metadata": {
        "id": "tXggB5UEmOLR",
        "colab": {
          "base_uri": "https://localhost:8080/"
        },
        "outputId": "1b1e0606-cb5f-4859-8371-0c4c8be89741"
      },
      "execution_count": null,
      "outputs": [
        {
          "output_type": "stream",
          "name": "stdout",
          "text": [
            "2025-03-04\n"
          ]
        }
      ]
    },
    {
      "cell_type": "code",
      "source": [
        "plus = dateTime.index(\"+\")\n",
        "Time = dateTime[T+1:plus]\n",
        "print (Time)"
      ],
      "metadata": {
        "colab": {
          "base_uri": "https://localhost:8080/"
        },
        "id": "xBvXdW9MQeXP",
        "outputId": "5f07c34f-78ba-4f42-c53a-29f6bd3ba796"
      },
      "execution_count": null,
      "outputs": [
        {
          "output_type": "stream",
          "name": "stdout",
          "text": [
            "12:07:19\n"
          ]
        }
      ]
    },
    {
      "cell_type": "code",
      "source": [
        "custom_datetime = Date.replace(\"-\" , \",\") + \" , \" + Time\n",
        "print (custom_datetime)"
      ],
      "metadata": {
        "colab": {
          "base_uri": "https://localhost:8080/"
        },
        "id": "pPpu4jVUQ0Jm",
        "outputId": "77dd397d-e3a0-440c-bf48-e5fc2d022e7e"
      },
      "execution_count": null,
      "outputs": [
        {
          "output_type": "stream",
          "name": "stdout",
          "text": [
            "2025,03,04 , 12:07:19\n"
          ]
        }
      ]
    },
    {
      "cell_type": "markdown",
      "source": [
        "\n",
        "\n",
        "```\n",
        "Τρόπος 2\n",
        "```\n",
        "\n"
      ],
      "metadata": {
        "id": "fmqHDYLZ7uE_"
      }
    },
    {
      "cell_type": "code",
      "source": [
        "dateTime2 = \"2025-03-04T12:07:19+02:00\""
      ],
      "metadata": {
        "id": "n4cn0X_97yLn"
      },
      "execution_count": 12,
      "outputs": []
    },
    {
      "cell_type": "code",
      "source": [
        "Date2 = dateTime2[0:10]\n",
        "print (Date2)"
      ],
      "metadata": {
        "colab": {
          "base_uri": "https://localhost:8080/"
        },
        "id": "fw5naIWQ73VJ",
        "outputId": "5fa3af22-9ed3-4601-d4ca-a32ee571d84c"
      },
      "execution_count": 13,
      "outputs": [
        {
          "output_type": "stream",
          "name": "stdout",
          "text": [
            "2025-03-04\n"
          ]
        }
      ]
    },
    {
      "cell_type": "code",
      "source": [
        "Time2 = dateTime2[11:19]\n",
        "print (Time2)"
      ],
      "metadata": {
        "colab": {
          "base_uri": "https://localhost:8080/"
        },
        "id": "CB8fzMFp77KY",
        "outputId": "5e1cae09-f156-4058-c4e8-1c7ebf01fcc5"
      },
      "execution_count": 14,
      "outputs": [
        {
          "output_type": "stream",
          "name": "stdout",
          "text": [
            "12:07:19\n"
          ]
        }
      ]
    },
    {
      "cell_type": "code",
      "source": [
        "custom_datetime2 = Date2.replace(\"-\" , \",\") + \" , \" + Time2\n",
        "print (custom_datetime2)"
      ],
      "metadata": {
        "colab": {
          "base_uri": "https://localhost:8080/"
        },
        "id": "ZbCIMHrT8AvH",
        "outputId": "13b22d13-0931-40fa-b3dd-a488181846c9"
      },
      "execution_count": 15,
      "outputs": [
        {
          "output_type": "stream",
          "name": "stdout",
          "text": [
            "2025,03,04 , 12:07:19\n"
          ]
        }
      ]
    },
    {
      "cell_type": "markdown",
      "source": [
        "\n",
        "\n",
        "---\n",
        "\n"
      ],
      "metadata": {
        "id": "msY4V_-QlRQU"
      }
    },
    {
      "cell_type": "markdown",
      "source": [
        "### **Άσκηση Bonus (για τους πιο πορωμένους/ες 😃)** [μη βαθμολογήσιμη]\n",
        "\n",
        "Εκτός από τις συναρτήσεις που είναι ενσωματωμένες στην Python ή περιέχονται σε βιβλιοθήκες που μπορούμε να εισάγουμε (όπως η βιβλιοθήκη Statistics που είδαμε), μπορούμε να φτιάξουμε και δικές μας συναρτήσεις.\n",
        "\n",
        "Ο τρόπος κατασκευής δικών μας συναρτήσεων παρουσιάζεται παρακάτω:"
      ],
      "metadata": {
        "id": "m488rAGkebdJ"
      }
    },
    {
      "cell_type": "code",
      "source": [
        "def calculate_avg(list_name):\n",
        "  avg = sum(list_name) / len(list_name)\n",
        "  return avg"
      ],
      "metadata": {
        "id": "RvYcpxm0fO1N"
      },
      "execution_count": null,
      "outputs": []
    },
    {
      "cell_type": "markdown",
      "source": [
        "Με τον παραπάνω κώδικα, με την εντολή ```def```, κατασκευάσαμε μια συνάρτηση με όνομα ```calculate_avg```.\n",
        "\n",
        "Μέσα στην παρένθεση ορίσαμε ότι η παράμετρος που δέχεται η συνάρτηση που κατασκευάζουμε, είναι το όνομα μιας λίστας ```(list_name)```.\n",
        "\n",
        "Στη συνέχεια ορίζουμε τον τύπο με τον οποίο θα υπολογίζουμε τον μέσο όρο, χρησιμοποιώντας το όνομα της λίστας που θα δίνεται σαν παράμετρος όταν καλούμε τη συνάρτηση (εξηγείται παρισσότερο παρακάτω).\n",
        "\n",
        "Τέλος, με την εντολή ```return``` επιστρέφουμε το αποτέλεσμα του υπολογισμού του μέσου όρου.\n",
        "\n",
        "**Προσοχή**: ο κώδικας μέσα στον ορισμό της συνάρτησης είναι intented, δηλαδή με εσοχή.\n"
      ],
      "metadata": {
        "id": "tQDe0GrxfhiE"
      }
    },
    {
      "cell_type": "markdown",
      "source": [
        "Με τον παραπάνω κώδικα κατασκευάσαμε τη συνάρτηση, την οποία πλέον μπορούμε να καλούμε με το όνομά της."
      ],
      "metadata": {
        "id": "krBasSd0hK9e"
      }
    },
    {
      "cell_type": "code",
      "source": [
        "my_gradesL = [10, 7, 6, 9, 8, 9]\n",
        "avg = calculate_avg(my_gradesL)\n",
        "print(avg)"
      ],
      "metadata": {
        "colab": {
          "base_uri": "https://localhost:8080/"
        },
        "id": "OqwYgElufgWX",
        "outputId": "890f48cc-7129-4ad2-f528-f8ca3d0406c7"
      },
      "execution_count": null,
      "outputs": [
        {
          "output_type": "stream",
          "name": "stdout",
          "text": [
            "8.166666666666666\n"
          ]
        }
      ]
    },
    {
      "cell_type": "markdown",
      "source": [
        "Αν στην παραπάνω συνάρτηση ενσωματώσουμε και μια γραμμή κώδικα που θα κάνει σρογγυλοποίηση του avg σε 1 δεκαδικό, στην ουσία έχουμε φτιάξει τη συνάρτηση mean της βιβλιοθήκης statistics.\n",
        "\n",
        "Ή αλλιώς διατυπωμένο: ένας τέτοιος κώδικας τρέχει (κρυφά, από πίσω) όταν καλούμε την εντολή mean() της βιβλιοθήκης statistics."
      ],
      "metadata": {
        "id": "zYIgJEtNh3-j"
      }
    },
    {
      "cell_type": "code",
      "source": [
        "def calculate_avg(list_name):\n",
        "  avg = sum(list_name) / len(list_name)\n",
        "  avg = round(avg, 1)\n",
        "  return avg"
      ],
      "metadata": {
        "id": "Yy0zQjR3idKu"
      },
      "execution_count": null,
      "outputs": []
    },
    {
      "cell_type": "code",
      "source": [
        "avg = calculate_avg(my_gradesL)\n",
        "print(avg)"
      ],
      "metadata": {
        "colab": {
          "base_uri": "https://localhost:8080/"
        },
        "id": "jCISqqZlimL8",
        "outputId": "57b0c4ee-0fde-4289-fb6c-9dea806b4c3d"
      },
      "execution_count": null,
      "outputs": [
        {
          "output_type": "stream",
          "name": "stdout",
          "text": [
            "8.2\n"
          ]
        }
      ]
    },
    {
      "cell_type": "markdown",
      "source": [
        "### **Άσκηση Bonus**:\n",
        "\n",
        "Φτιάξτε μια συνάρτηση (με όνομα κάτι σαν \"date_from_datetime\"), η οποία θα παίρνει ένα datetime string και θα επιστρέφει μόνο την ημερομηνία (δηλαδή μόνο το μέρος \"έτος:μήνας:ημέρα\").\n",
        "\n",
        "*Tip*: Συμβουλευτείτε / αποδεχτείτε τις προτάσεις που σας κάνει το Gemini καθώς γράφετε τον κώδικα στα code shells."
      ],
      "metadata": {
        "id": "l_jDiXpVi2rf"
      }
    },
    {
      "cell_type": "code",
      "source": [
        "def custom_date (datetime):\n",
        "    date = datetime [:10]\n",
        "    new_date = date.replace (\"-\",\":\")\n",
        "    return new_date\n",
        "\n",
        "date_from_datetime = \"2025-03-04T12:07:19+02:00\"\n",
        "\n",
        "print (custom_date (date_from_datetime))"
      ],
      "metadata": {
        "colab": {
          "base_uri": "https://localhost:8080/"
        },
        "id": "drxdiCukW7Kt",
        "outputId": "b3a364fb-801e-4829-cc14-0867c49f46f3"
      },
      "execution_count": null,
      "outputs": [
        {
          "output_type": "stream",
          "name": "stdout",
          "text": [
            "2025:03:04\n"
          ]
        }
      ]
    },
    {
      "cell_type": "code",
      "source": [
        "date2 = \"1996-10-30T12:07:19+02:00\"\n",
        "\n",
        "print (custom_date (date2))"
      ],
      "metadata": {
        "colab": {
          "base_uri": "https://localhost:8080/"
        },
        "id": "QwxUF80XZXj8",
        "outputId": "45006375-916d-435f-a943-e19664c631c6"
      },
      "execution_count": null,
      "outputs": [
        {
          "output_type": "stream",
          "name": "stdout",
          "text": [
            "1996:10:30\n"
          ]
        }
      ]
    },
    {
      "cell_type": "code",
      "source": [
        "date3 = \"1993-02-27T12:07:19+02:00\"\n",
        "\n",
        "print (custom_date (date3))"
      ],
      "metadata": {
        "colab": {
          "base_uri": "https://localhost:8080/"
        },
        "id": "exP1epg7ZpCs",
        "outputId": "7ded635d-5594-49ff-f65f-7f03171b71e5"
      },
      "execution_count": null,
      "outputs": [
        {
          "output_type": "stream",
          "name": "stdout",
          "text": [
            "1993:02:27\n"
          ]
        }
      ]
    }
  ]
}