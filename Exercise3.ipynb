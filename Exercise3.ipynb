{
  "nbformat": 4,
  "nbformat_minor": 0,
  "metadata": {
    "colab": {
      "provenance": [],
      "include_colab_link": true
    },
    "kernelspec": {
      "name": "python3",
      "display_name": "Python 3"
    },
    "language_info": {
      "name": "python"
    }
  },
  "cells": [
    {
      "cell_type": "markdown",
      "metadata": {
        "id": "view-in-github",
        "colab_type": "text"
      },
      "source": [
        "<a href=\"https://colab.research.google.com/github/smesindianou/homeworks/blob/main/Exercise3.ipynb\" target=\"_parent\"><img src=\"https://colab.research.google.com/assets/colab-badge.svg\" alt=\"Open In Colab\"/></a>"
      ]
    },
    {
      "cell_type": "markdown",
      "source": [
        "### Άσκηση 1\n",
        "\n",
        "Σ' αυτή την άσκηση θα φτιάξουμε μια λίστα στην οποία θα αποθηκεύουμε δίάφορα δεδομένα από άρθρα που δημοσιεύονται σε sites.\n",
        "\n",
        "Φτιάξτε ένα νέο κελί κώδικα (Code cell) ακριβώς κάτω από αυτό και κάνετε τα παρακάτω:\n",
        "\n",
        "- Δημιουργήστε μια κενή λίστα όπου θα αποθηκεύετε τα δεδομένα των άρθρων\n",
        "- Δημιουργήστε ένα λεξικό με τα στοιχεία του πρώτου άρθρου που θα συλλέξετε από ένα site: \"Τίτλος\", \"Ημερομηνία\", \"Κατηγορία\", \"url\"\n",
        "- Επαναλάβετε το 2 για ακόμα ένα άρθρο\n",
        "- Προσθέστε τα λεξικά στη λίστα.\n",
        "- Τυπώστε στην οθόνη τον τίτλο του 2ου άρθρου\n",
        "- Προσθέστε και στα 2 άρθρα μια εγγραφή με το όνομα του αντίστοιχου site που πήρατε το άρθρο\n",
        "- Τυπώστε στην οθόνη το πλήθος των λεξικών που έχει η λίστα.\n",
        "\n",
        "Tip:Δουλέψτε τμηματικά και ελέγχετε σε κάθε βήμα αυτό που κάνετε."
      ],
      "metadata": {
        "id": "PYkQAeYLq0d5"
      }
    },
    {
      "cell_type": "code",
      "execution_count": null,
      "metadata": {
        "id": "_51_g4biqyte"
      },
      "outputs": [],
      "source": [
        "article_data = []"
      ]
    },
    {
      "cell_type": "code",
      "source": [
        "article1_dict = {\"Τίτλος\" : \"ΗΠΑ: Στο στόχαστρο των περικοπών Τραμπ η «Φωνή της Αμερικής» και το Radio Free Europe\" , \"Ημερομηνία\" : \"Κυριακή, 16 Μαρτίου 2025\" , \"Κατηγορία\" : \"Κόσμος\" , \"url\" : \"https://www.naftemporiki.gr/kosmos/1933597/ipa-sto-stochastro-ton-perikopon-tramp-i-foni-tis-amerikis-kai-to-radio-free-europe/\"}\n",
        "print (article1_dict)"
      ],
      "metadata": {
        "colab": {
          "base_uri": "https://localhost:8080/"
        },
        "id": "JiYpR5UGO2Kp",
        "outputId": "b6d5e997-dde6-4b56-8b10-aeb20edd2550"
      },
      "execution_count": null,
      "outputs": [
        {
          "output_type": "stream",
          "name": "stdout",
          "text": [
            "{'Τίτλος': 'ΗΠΑ: Στο στόχαστρο των περικοπών Τραμπ η «Φωνή της Αμερικής» και το Radio Free Europe', 'Ημερομηνία': 'Κυριακή, 16 Μαρτίου 2025', 'Κατηγορία': 'Κόσμος', 'url': 'https://www.naftemporiki.gr/kosmos/1933597/ipa-sto-stochastro-ton-perikopon-tramp-i-foni-tis-amerikis-kai-to-radio-free-europe/'}\n"
          ]
        }
      ]
    },
    {
      "cell_type": "code",
      "source": [
        "article2_dict = {\"Τίτλος\" : \"Παραιτήθηκε ο Αρίστος Δοξιάδης\" , \"Ημερομηνία\" : \"Κυριακή, 16 Μαρτίου 2025\" , \"Κατηγορία\" : \"Πολιτική\" , \"url\" : \"https://www.naftemporiki.gr/politics/1933649/paraitithike-o-aristos-doxiadis/\"}\n",
        "print (article2_dict)"
      ],
      "metadata": {
        "colab": {
          "base_uri": "https://localhost:8080/"
        },
        "id": "sxYw_jRtPHiA",
        "outputId": "644d957b-d6f8-4bfc-8a0f-c79eedfdb2cc"
      },
      "execution_count": null,
      "outputs": [
        {
          "output_type": "stream",
          "name": "stdout",
          "text": [
            "{'Τίτλος': 'Παραιτήθηκε ο Αρίστος Δοξιάδης', 'Ημερομηνία': 'Κυριακή, 16 Μαρτίου 2025', 'Κατηγορία': 'Πολιτική', 'url': 'https://www.naftemporiki.gr/politics/1933649/paraitithike-o-aristos-doxiadis/'}\n"
          ]
        }
      ]
    },
    {
      "cell_type": "code",
      "source": [
        "article_data.append(article1_dict)\n",
        "article_data.append(article2_dict)\n",
        "print (article_data)"
      ],
      "metadata": {
        "colab": {
          "base_uri": "https://localhost:8080/"
        },
        "id": "oRsbJ1aqPKYB",
        "outputId": "c1680043-c4d2-40c8-df06-79a56add5051"
      },
      "execution_count": null,
      "outputs": [
        {
          "output_type": "stream",
          "name": "stdout",
          "text": [
            "[{'Τίτλος': 'ΗΠΑ: Στο στόχαστρο των περικοπών Τραμπ η «Φωνή της Αμερικής» και το Radio Free Europe', 'Ημερομηνία': 'Κυριακή, 16 Μαρτίου 2025', 'Κατηγορία': 'Κόσμος', 'url': 'https://www.naftemporiki.gr/kosmos/1933597/ipa-sto-stochastro-ton-perikopon-tramp-i-foni-tis-amerikis-kai-to-radio-free-europe/'}, {'Τίτλος': 'Παραιτήθηκε ο Αρίστος Δοξιάδης', 'Ημερομηνία': 'Κυριακή, 16 Μαρτίου 2025', 'Κατηγορία': 'Πολιτική', 'url': 'https://www.naftemporiki.gr/politics/1933649/paraitithike-o-aristos-doxiadis/'}]\n"
          ]
        }
      ]
    },
    {
      "cell_type": "code",
      "source": [
        "print (article_data[1][\"Τίτλος\"])"
      ],
      "metadata": {
        "colab": {
          "base_uri": "https://localhost:8080/"
        },
        "id": "N_7nSmU4PO64",
        "outputId": "5f55b49c-c4e9-41da-f759-7b56af73259c"
      },
      "execution_count": null,
      "outputs": [
        {
          "output_type": "stream",
          "name": "stdout",
          "text": [
            "Παραιτήθηκε ο Αρίστος Δοξιάδης\n"
          ]
        }
      ]
    },
    {
      "cell_type": "code",
      "source": [
        "article1_dict[\"Πηγή\"] = \"Ναυτεμπορική\"\n",
        "print (article1_dict)"
      ],
      "metadata": {
        "colab": {
          "base_uri": "https://localhost:8080/"
        },
        "id": "ifcOxH70RFIw",
        "outputId": "144f33c2-bd19-4897-e0ce-760af58ca21e"
      },
      "execution_count": null,
      "outputs": [
        {
          "output_type": "stream",
          "name": "stdout",
          "text": [
            "{'Τίτλος': 'ΗΠΑ: Στο στόχαστρο των περικοπών Τραμπ η «Φωνή της Αμερικής» και το Radio Free Europe', 'Ημερομηνία': 'Κυριακή, 16 Μαρτίου 2025', 'Κατηγορία': 'Κόσμος', 'url': 'https://www.naftemporiki.gr/kosmos/1933597/ipa-sto-stochastro-ton-perikopon-tramp-i-foni-tis-amerikis-kai-to-radio-free-europe/', 'Πηγή': 'Ναυτεμπορική'}\n"
          ]
        }
      ]
    },
    {
      "cell_type": "code",
      "source": [
        "article2_dict[\"Πηγή\"] = \"Ναυτεμπορική\"\n",
        "print (article2_dict)"
      ],
      "metadata": {
        "colab": {
          "base_uri": "https://localhost:8080/"
        },
        "id": "6E5J5phORxWB",
        "outputId": "f26484db-9d9e-4a26-97ba-fedc78953437"
      },
      "execution_count": null,
      "outputs": [
        {
          "output_type": "stream",
          "name": "stdout",
          "text": [
            "{'Τίτλος': 'Παραιτήθηκε ο Αρίστος Δοξιάδης', 'Ημερομηνία': 'Κυριακή, 16 Μαρτίου 2025', 'Κατηγορία': 'Πολιτική', 'url': 'https://www.naftemporiki.gr/politics/1933649/paraitithike-o-aristos-doxiadis/', 'Πηγή': 'Ναυτεμπορική'}\n"
          ]
        }
      ]
    },
    {
      "cell_type": "code",
      "source": [
        "print (len(article_data))"
      ],
      "metadata": {
        "colab": {
          "base_uri": "https://localhost:8080/"
        },
        "id": "iX7rBXriR7sQ",
        "outputId": "80be236e-2b3e-46b8-823a-40258e5880eb"
      },
      "execution_count": null,
      "outputs": [
        {
          "output_type": "stream",
          "name": "stdout",
          "text": [
            "2\n"
          ]
        }
      ]
    },
    {
      "cell_type": "markdown",
      "source": [
        "\n",
        "\n",
        "---\n",
        "\n"
      ],
      "metadata": {
        "id": "5YTNrgMwvHQb"
      }
    },
    {
      "cell_type": "markdown",
      "source": [
        "### Άσκηση 2\n",
        "\n",
        "Η ακολουθία των αριθμών που δημιουργείται από το άθροισμα ενός αριθμού με τον προηγούμενό του λέγεται ακολουθία [Φιμπονάτσι](https://el.wikipedia.org/wiki/%CE%91%CE%BA%CE%BF%CE%BB%CE%BF%CF%85%CE%B8%CE%AF%CE%B1_%CE%A6%CE%B9%CE%BC%CF%80%CE%BF%CE%BD%CE%AC%CF%84%CF%83%CE%B9).\n",
        "\n",
        "Στο παρακάτω κελί και κάτω από τον υπάρχοντα κώδικα:\n",
        "\n",
        "- φτιάξτε μια for loop που θα τρέχει 22 φορές και\n",
        "- θα φτιάχνει μια μεταβλητή με όνομα c και τιμή το άθροισμα των a και b\n",
        "- θα τυπώνει την τιμή του c\n",
        "- θα αλλάζει την τιμή του a σε b και\n",
        "- θα αλλάζει την τιμή του b σε c\n",
        "- τρέξτε τον κώδικα"
      ],
      "metadata": {
        "id": "omSbKRDDyGb4"
      }
    },
    {
      "cell_type": "code",
      "source": [
        "a = 0\n",
        "b = 1\n",
        "print (a) # επέλεξα να κάνω print και τις αρχικές δύο μεταβλητές ώστε η ακολουθία να ξεκινήσει με τα ψηφία 0 και 1, θα μπορούσε να αποφευχθεί\n",
        "print (b)\n",
        "for i in range (22) :\n",
        "  c = a + b\n",
        "  print (c)\n",
        "  a = b\n",
        "  b = c"
      ],
      "metadata": {
        "id": "EZVUpHre870A",
        "colab": {
          "base_uri": "https://localhost:8080/"
        },
        "outputId": "66743c26-1d0c-42d0-9cb6-5a70cca22286"
      },
      "execution_count": null,
      "outputs": [
        {
          "output_type": "stream",
          "name": "stdout",
          "text": [
            "0\n",
            "1\n",
            "1\n",
            "2\n",
            "3\n",
            "5\n",
            "8\n",
            "13\n",
            "21\n",
            "34\n",
            "55\n",
            "89\n",
            "144\n",
            "233\n",
            "377\n",
            "610\n",
            "987\n",
            "1597\n",
            "2584\n",
            "4181\n",
            "6765\n",
            "10946\n",
            "17711\n",
            "28657\n"
          ]
        }
      ]
    },
    {
      "cell_type": "markdown",
      "source": [
        "\n",
        "\n",
        "---\n",
        "\n"
      ],
      "metadata": {
        "id": "DmjkxZGvzXy1"
      }
    },
    {
      "cell_type": "markdown",
      "source": [
        "### Άσκηση 3\n",
        "\n",
        "Φτιάξτε ένα νέο κελί κώδικα ακριβώς από κάτω και:\n",
        "\n",
        "- Φτιάξτε μια λίστα με όνομα titlesL και βάλτε μέσα τους τίτλους 3 αγαπημένων σας ταινιών\n",
        "- Φτιάξτε άλλη μια λίστα με όνομα ratingsL και βάλτε μέσα το βαθμό (από το 1 έως το 10) που θα βάζατε σε καθε μια από τις ταινίες\n",
        "- Φτιάξτε μια for loop που να τρέχει για όλα τα αντικείμενα της λίστας των ταινιών και να τυπώνει το όνομά της και το βαθμό της.\n",
        "\n",
        "Hints:\n",
        "Δεδομενου ότι οι δύο λίστες έχουν τον ίδιο αριθμό αντικειμένων και η σειρά των βαθμολογιών αντιστοιχεί στη σειρά των ταινιών, μπορείτε να χρησιμοποιήσετε τον αριθμό του index και την range() σε συνδυασμό με τη len().\n",
        "\n",
        "**Γράψτε σε comment τι κάνει η κάθε γραμμή του κώδικά σας.**\n"
      ],
      "metadata": {
        "id": "QOAgGYGWvJIp"
      }
    },
    {
      "cell_type": "code",
      "source": [
        "titlesL = [\"V for Vendetta\" , \"Leon the Professional\" , \"Inside Out\"] #δημιουργία λίστας που περιλαμβάνει τρεις τίτλους ταινιών\n",
        "ratingsL = [9 , 8 , 10] #δημιουργία λίστας που περιλαμβάνει τρεις βαθμολογίες ταινιών\n",
        "for i in range (len(titlesL)) : #για κάθε αντικείμενο στο εύρος του μήκους της λίστας titlesL\n",
        "  print (titlesL[i] , ratingsL[i]) #εκτύπωση του αντικειμένου με αντίστοιχο index από τη λίστα titlesL και τη λίστα ratingsL"
      ],
      "metadata": {
        "id": "wxuW62Ly2z8q",
        "colab": {
          "base_uri": "https://localhost:8080/"
        },
        "outputId": "be7fa98f-5328-4de9-b6c5-f5527b47b4bf"
      },
      "execution_count": null,
      "outputs": [
        {
          "output_type": "stream",
          "name": "stdout",
          "text": [
            "V for Vendetta 9\n",
            "Leon the Professional 8\n",
            "Inside Out 10\n"
          ]
        }
      ]
    },
    {
      "cell_type": "markdown",
      "source": [
        "\n",
        "\n",
        "---\n",
        "\n"
      ],
      "metadata": {
        "id": "6kh_O0w5yEFw"
      }
    },
    {
      "cell_type": "markdown",
      "source": [
        "### Άσκηση 4\n",
        "\n",
        "Φτιάξτε ένα νέο κελί κώδικα ακριβώς από κάτω και:\n",
        "\n",
        "- Φτιάξτε μια λίστα με όνομα titlesL και βάλτε μέσα τους τίτλους 3 αγαπημένων σας ταινιών\n",
        "- Φτιάξτε άλλη μια λίστα με όνομα ratingsL και βάλτε μέσα το βαθμό (από το 1 έως το 10) που θα βάζατε σε καθε μια από τις ταινίες\n",
        "\n",
        "**Αν κάνατε την προηγούμενη άσκηση, χρησιμοποιήστε τις ήδη δημιουργημένες λίστες titlesL και ratingsL - δλδ μην φτιάξετε καινούριες λίστες για το ίδιο πράγμα**\n",
        "\n",
        "- Φτιάξτε μια κενή λίστα με όνομα moviesL\n",
        "\n",
        "Φτιάξτε μια for loop που να τρέχει για όλα τα indexes της λίστας των ταινιών και να κάνει τα παρακάτω:\n",
        "- δημιουργεί ένα κενό λεξικό με όνομα movieD\n",
        "- φτιάχνει ένα item στο λεξικό με όνομα κλειδιού \"title\" και τιμή τον τίτλο που αντιστοιχεί στο εκάστοτε index της λίστας titlesL\n",
        "- φτιάχνει ένα item στο λεξικό με όνομα κλειδιού \"rating\" και τιμή το rating που αντιστοιχεδί στο εκάστοτε index της λίστας ratingsL\n",
        "- προσθέτει το λεξικό στη λίστα moviesL\n",
        "\n",
        "Τέλος, τυπώστε τη λίστα moviesL.\n",
        "\n",
        "**Γράψτε σε comment τι κάνει η κάθε γραμμή του κώδικά σας.**\n"
      ],
      "metadata": {
        "id": "TjFqUapc0JMr"
      }
    },
    {
      "cell_type": "code",
      "source": [
        "moviesL = [] #δημιουργία κενής λίστας\n",
        "\n",
        "for i in range (len(titlesL)): #δημιουργία for loop για κάθε αντικείμενο στο εύρος του μεγέθους της λίστας titlesL\n",
        "  movieD = {} #δημιουργία κενού λεξικού\n",
        "  movieD[\"title\"] = titlesL[i] #δημιουργία item στο λεξικό movieD με όνομα κλειδιού \"title\" και τιμή αυτή του εκάστοτε index της λίστας titlesL\n",
        "  movieD[\"rating\"] = ratingsL[i] #δημιουργία item στο λεξικό movieD με όνομα κλειδιού \"rating\" και τιμή αυτή του εκάστοτε index της λίστας ratingsL\n",
        "  moviesL.append(movieD) #προσθήκη του λεξικού movieD στην λίστα moviesL\n",
        "\n",
        "print (moviesL) # εκτύπωση της λίστας moviesL"
      ],
      "metadata": {
        "id": "gDcAB6eG8AbC",
        "colab": {
          "base_uri": "https://localhost:8080/"
        },
        "outputId": "a6a8bd48-1cad-41e6-d17d-3d0f85b5568f"
      },
      "execution_count": null,
      "outputs": [
        {
          "output_type": "stream",
          "name": "stdout",
          "text": [
            "[{'title': 'V for Vendetta', 'rating': 9}, {'title': 'Leon the Professional', 'rating': 8}, {'title': 'Inside Out', 'rating': 10}]\n"
          ]
        }
      ]
    }
  ]
}