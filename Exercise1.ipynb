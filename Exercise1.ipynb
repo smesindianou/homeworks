{
  "nbformat": 4,
  "nbformat_minor": 0,
  "metadata": {
    "colab": {
      "provenance": [],
      "include_colab_link": true
    },
    "kernelspec": {
      "name": "python3",
      "display_name": "Python 3"
    },
    "language_info": {
      "name": "python"
    }
  },
  "cells": [
    {
      "cell_type": "markdown",
      "metadata": {
        "id": "view-in-github",
        "colab_type": "text"
      },
      "source": [
        "<a href=\"https://colab.research.google.com/github/smesindianou/homeworks/blob/main/Exercise1.ipynb\" target=\"_parent\"><img src=\"https://colab.research.google.com/assets/colab-badge.svg\" alt=\"Open In Colab\"/></a>"
      ]
    },
    {
      "cell_type": "markdown",
      "source": [
        "Δημιουργήστε τις παρακάτω μεταβλητές:\n",
        "- όνομα\n",
        "- επώνυμο\n",
        "- αριθμός μητρώου\n",
        "- μάθημα 1\n",
        "- μάθημα 2\n",
        "- μάθημα 3\n",
        "- βαθμός μαθήματος 1\n",
        "- βαθμός μαθήματος 2\n",
        "- βαθμός μαθήματος 3\n",
        "\n",
        "Σε κάθε μεταβλητή δώστε την αντίστοιχη τιμή, με το σωστό τύπο δεδομένων (string, integer).\n",
        "\n",
        "Τυπώστε στην οθόνη (print) τις τιμές όλων των μεταβλητών που ορίσατε.\n",
        "\n",
        "**Hints**:\n",
        "- όπου η τιμή είναι αριθμός, σκεφτείτε αν θα χρησιμοποιήσετε stirng ή integer, ανάλογα με το αν χρειάζεται να κάνετε αργότερα αριθμητικές πράξεις\n",
        "- χρησιμοποιήστε ονόματα μεταβλητών που να έχουν νόημα\n",
        "- εάν γράψετε όλες τις εντολές σε ένα κελί, όταν φτάσετε στο τέλος στο σημείο να γράψετε την εντολή `print`, το colab θα σας προτείνει να γράψετε μέσα στις παρενθέσεις όλες τις μεταβλητές. Πατήστε `tab` για να αποδεχτείτε την πρόταση που σας κάνει."
      ],
      "metadata": {
        "id": "JZISjhuEQFOB"
      }
    },
    {
      "cell_type": "code",
      "execution_count": 1,
      "metadata": {
        "id": "cRnQhimEPhY0"
      },
      "outputs": [],
      "source": [
        "name = \"Spyridoula\"\n",
        "surname = \"Mesindianou\"\n",
        "A_M = \"7983092400011\"\n",
        "lesson1 = \"DIAM1\"\n",
        "lesson2 = \"DIAM3\"\n",
        "lesson3 = \"EDDE1\"\n",
        "grade1 = 10\n",
        "grade2 = 10\n",
        "grade3 = 8"
      ]
    },
    {
      "cell_type": "markdown",
      "source": [
        "Υπολογίστε το μέσο όρο των βαθμών των 3 μαθημάτων, αποθηκεύστε τον σε μια μεταβλητή και τυπώστε την τιμή της μεταβλητής του μέσου όρου στην οθόνη.\n",
        "\n",
        "**Hints**:\n",
        "- ο μέσος όρος υπολογίζεται με τη φόρμουλα: <άθροισμα επιμέρους τιμών> δια <πλήθος τιμών>\n",
        "- για τον υπολογισμό του μέσου όρου χρησιμοποιήστε τα ονόματα των μεταβλητών των επιμέρους τιμών και όχι τις τιμές τους"
      ],
      "metadata": {
        "id": "uPD0W-qcWcfV"
      }
    },
    {
      "cell_type": "code",
      "source": [
        "m_o = (grade1 + grade2 + grade3)/3\n",
        "print (m_o)"
      ],
      "metadata": {
        "id": "Z0OnhXMURzMR",
        "colab": {
          "base_uri": "https://localhost:8080/"
        },
        "outputId": "d930e740-9db8-4939-fc60-3198af8e0f34"
      },
      "execution_count": 2,
      "outputs": [
        {
          "output_type": "stream",
          "name": "stdout",
          "text": [
            "9.333333333333334\n"
          ]
        }
      ]
    },
    {
      "cell_type": "markdown",
      "source": [
        "Τυπώστε στην οθόνη την τιμή του μέσου όρου και τον τύπο δεδομένων της μεταβλητής του μέσου όρου."
      ],
      "metadata": {
        "id": "3lDi2k3iYoWe"
      }
    },
    {
      "cell_type": "code",
      "source": [
        "print (m_o)\n",
        "type (m_o)"
      ],
      "metadata": {
        "id": "ET5xvgxTZAJb",
        "colab": {
          "base_uri": "https://localhost:8080/"
        },
        "outputId": "d0bcbbc9-897b-43f3-be34-840ccca7e39d"
      },
      "execution_count": 3,
      "outputs": [
        {
          "output_type": "stream",
          "name": "stdout",
          "text": [
            "9.333333333333334\n"
          ]
        },
        {
          "output_type": "execute_result",
          "data": {
            "text/plain": [
              "float"
            ]
          },
          "metadata": {},
          "execution_count": 3
        }
      ]
    },
    {
      "cell_type": "markdown",
      "source": [
        "Μετατρέψτε το μέσο όρο σε ακέραιο (integer) και τυπώστε το αποτέλεσμα στην οθόνη."
      ],
      "metadata": {
        "id": "y-QK_9DmZHAF"
      }
    },
    {
      "cell_type": "code",
      "source": [
        "print ( int(m_o) )"
      ],
      "metadata": {
        "id": "VV13wQMoR69T",
        "colab": {
          "base_uri": "https://localhost:8080/"
        },
        "outputId": "22178686-049d-4642-ee51-27e6ea1324fd"
      },
      "execution_count": 5,
      "outputs": [
        {
          "output_type": "stream",
          "name": "stdout",
          "text": [
            "9\n"
          ]
        }
      ]
    },
    {
      "cell_type": "markdown",
      "source": [
        "Αλλάξτε τις τιμές των μεταβλητών των βαθμών των μαθημάτων και ξαναϋπολογίστε τον μέσο όρο."
      ],
      "metadata": {
        "id": "2UZvmxOPayZM"
      }
    },
    {
      "cell_type": "code",
      "source": [
        "grade1 = 9\n",
        "grade2 = 7\n",
        "grade3 = 6\n",
        "m_o = (grade1 + grade2 + grade3)/3\n",
        "print (m_o)"
      ],
      "metadata": {
        "id": "Pt7S8erXeasx",
        "colab": {
          "base_uri": "https://localhost:8080/"
        },
        "outputId": "3facedde-e882-4dd1-f35b-f790d66f6b95"
      },
      "execution_count": 6,
      "outputs": [
        {
          "output_type": "stream",
          "name": "stdout",
          "text": [
            "7.333333333333333\n"
          ]
        }
      ]
    },
    {
      "cell_type": "markdown",
      "source": [
        "Δημιουργήστε ένα νέο κελί κώδικα.\n",
        "\n",
        "Μέσα στο κελί γράφει: Start coding or generate with AI. Πατήστε τη λέξη generate.\n",
        "\n",
        "Στο κελί Generate που εμφανίζεται γράψτε ένα prompt με το οποίο να του ζητάτε να αλλάξει τη μεταβλητή grade1 σε 5 και να ξαναϋπολογίσει τον μέσο όρο."
      ],
      "metadata": {
        "id": "1dhIvNXCecFf"
      }
    },
    {
      "cell_type": "code",
      "source": [
        "# prompt: Άλλαξε την τιμή της μεταβλητής grade1 σε 5 και υπολόγισε ξανά τον μέσο όρο των μεταβλητών grade1, grade2, grade3, και τύπωσε το αποτέλεσμα στην οθόνη.\n",
        "\n",
        "grade1 = 5\n",
        "m_o = (grade1 + grade2 + grade3) / 3\n",
        "m_o\n"
      ],
      "metadata": {
        "id": "9yTveSV_bLbV",
        "colab": {
          "base_uri": "https://localhost:8080/"
        },
        "outputId": "a9a59bfc-8915-4015-ebd5-4c9bb822b300"
      },
      "execution_count": 8,
      "outputs": [
        {
          "output_type": "execute_result",
          "data": {
            "text/plain": [
              "6.0"
            ]
          },
          "metadata": {},
          "execution_count": 8
        }
      ]
    }
  ]
}