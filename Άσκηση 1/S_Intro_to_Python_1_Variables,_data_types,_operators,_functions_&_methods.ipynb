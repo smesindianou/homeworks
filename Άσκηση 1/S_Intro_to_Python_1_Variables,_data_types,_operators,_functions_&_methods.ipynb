{
  "nbformat": 4,
  "nbformat_minor": 0,
  "metadata": {
    "colab": {
      "provenance": [],
      "include_colab_link": true
    },
    "kernelspec": {
      "name": "python3",
      "display_name": "Python 3"
    },
    "language_info": {
      "name": "python"
    }
  },
  "cells": [
    {
      "cell_type": "markdown",
      "metadata": {
        "id": "view-in-github",
        "colab_type": "text"
      },
      "source": [
        "<a href=\"https://colab.research.google.com/github/smesindianou/homeworks/blob/main/%CE%86%CF%83%CE%BA%CE%B7%CF%83%CE%B7%201/S_Intro_to_Python_1_Variables%2C_data_types%2C_operators%2C_functions_%26_methods.ipynb\" target=\"_parent\"><img src=\"https://colab.research.google.com/assets/colab-badge.svg\" alt=\"Open In Colab\"/></a>"
      ]
    },
    {
      "cell_type": "markdown",
      "source": [
        "# Εισαγωγή στην Python - Variables, data types (integers, floats, stings, boolean, lists, dictionaries), mathematical & comparison operators"
      ],
      "metadata": {
        "id": "8Ec08Gv59haH"
      }
    },
    {
      "cell_type": "markdown",
      "source": [
        "![image.png](https://www.python.org/static/community_logos/python-logo-master-v3-TM-flattened.png)\n",
        "# **Τη γλώσσα μου έδωσαν Python-ική**"
      ],
      "metadata": {
        "id": "2inEt98AJzwP"
      }
    },
    {
      "cell_type": "markdown",
      "source": [
        "Ο όρος γλώσσα αναφέρεται στον τρόπο επικοινωνίας, ιδίως του ανθρώπου, αλλά μπορεί να αναφέρεται επίσης & σε περιπτώσεις τεχνητών και μη ανθρώπινων σημειακών συστημάτων (μιμόγλωσσα, τυπικές γλώσσες των μαθηματικών και της πληροφορικής, γλώσσες προγραμματισμού, συστήματα επικοινωνίας ζώων κ.λπ.). Η διαφορά της γλώσσας ως τρόπος ανθρώπινης επικοινωνίας είναι ότι δε βασίζεται σε μία συγκεκριμένη μορφή μετάδοσης (π.χ. έναν ήχο), όπως το σύστημα επικοινωνίας των ζώων, αλλά αποτελείται από **συνδυασμό συστημάτων** που διαφοροποιείται σε πολύ μεγάλο βαθμό από κουλτούρα σε κουλτούρα και από τη μία εποχή στην άλλη.\n",
        "([wikipedia](https://el.wikipedia.org/wiki/%CE%93%CE%BB%CF%8E%CF%83%CF%83%CE%B1))"
      ],
      "metadata": {
        "id": "1fvPstv4KN2l"
      }
    },
    {
      "cell_type": "markdown",
      "source": [
        "##**Γιατί Python;**"
      ],
      "metadata": {
        "id": "Su1R5Gs7LdVs"
      }
    },
    {
      "cell_type": "markdown",
      "source": [
        "Παρότι κάθε γλώσσα παρέχει κάποιο βαθμό ελευθερίας στη χρήση της (π.χ. στη σύνταξη, στην ορθογραφία, στην προφορά κλπ.) μέσα στον οποίο η επικοινωνία *εκσακολουθί νa επιtinxάνεται, 3stω & αργά*, ωστόσο, κάθε γλώσσα έχει κάποιους **σαφείς και απαράβατους γραμματικούς και συντακτικούς κανόνες**.\n",
        "\n",
        "Είναι μάλλον σαφές ότι μια ελλειπτική ερώτηση, όπως η \"Γιατί Python;\" είναι ασαφής, αφού στο πλαίσιο ενός μαθήματος *Ανάλυση δεδομένων δημοσιογραφίας με χρήση της γλώσσας Python*, θα μπορούσε να σημαίνει τουλάχιστον 3 πράγματα:\n",
        "* γιατί (να δοθεί σε φοιτητές επικοινωνίας/δημοσιογραφίας, η γλώσσα) Python;\n",
        "* γιατί (να μάθουν επικοινωνιολόγοι/δημοσιογράφοι) Python (και όχι μια άλλη γλώσσα προγραμματισμού);\n",
        "* γιατί (η γλώσσα λέγεται) python (και όχι π.χ. P++);\n",
        "\n",
        "\n",
        "\n"
      ],
      "metadata": {
        "id": "mOcCTjvwLsEH"
      }
    },
    {
      "cell_type": "markdown",
      "source": [
        "Αν ρωτήσουμε την ίδια την Python, τι θα μας πει;"
      ],
      "metadata": {
        "id": "wYHakZxuSOJN"
      }
    },
    {
      "cell_type": "code",
      "source": [
        "# γράφω σε ένα code cell το μήνυμά μου (εντολή) προς την python\n",
        "why python\n",
        "# τρέχω αυτό το cell πατώντας το κουμπί play αριστερά ή πατώντας Ctrl+Enter στο πληκτρολόγιο"
      ],
      "metadata": {
        "id": "Q3qD8qHmSMv-",
        "colab": {
          "base_uri": "https://localhost:8080/",
          "height": 132
        },
        "outputId": "73174956-3597-4029-fa5f-a5cbdf5ddea5"
      },
      "execution_count": null,
      "outputs": [
        {
          "output_type": "error",
          "ename": "SyntaxError",
          "evalue": "ignored",
          "traceback": [
            "\u001b[0;36m  File \u001b[0;32m\"<ipython-input-1-b6fc875a90e5>\"\u001b[0;36m, line \u001b[0;32m2\u001b[0m\n\u001b[0;31m    why python\u001b[0m\n\u001b[0m        ^\u001b[0m\n\u001b[0;31mSyntaxError\u001b[0m\u001b[0;31m:\u001b[0m invalid syntax\n"
          ]
        }
      ]
    },
    {
      "cell_type": "markdown",
      "source": [
        "Με τον παραπάνω κώδικα μπορεί να μάθαμε ότι **αν βάλουμε μπροστά από μια πρόταση το # η python το καταλαβαίνει σαν επεξηγηματικό σχόλιο** προς τον εαυτό μας (ή στον κάθε αναγνώστη του κώδικά μας) και όχι σαν εντολή προς την python, αλλά όσο αφορά την εκτέλεση της εντολής, μάλλον δεν ξεκινήσαμε καλά (το κουμπί play κοκκίνισε και εμφανίστηκε ένα μήνυμα λάθους).\n",
        "\n",
        "Για να είμαστε ακριβείς -για να συνηθίζουμε κι όλας στην ιδέα ότι **με μια γλώσσα προγραμματισμού πρέπει να είμαστε (συντακτικά) απόλυτα ακριβείς**- η εκτέλεση της εντολής καλά πήγε:\n",
        "\n",
        "* η python μας απάντησε, λέγοντας ότι **υπάρχει** συντακτικό **λάθος**\n",
        "(SyntaxError: invalid syntax), και επιπλέον\n",
        "* το Colab μας προτείνει να βρούμε λύσεις στο **Stack Overflow** παρέχοντάς μας ένα link προς τη σελίδα αποτελεσμάτων της google με απαντήσεις σε παρόμοια προβλήματα."
      ],
      "metadata": {
        "id": "zaweAES2VuBP"
      }
    },
    {
      "cell_type": "markdown",
      "source": [
        "Αφού λοιπόν ξεκαθαρίσαμε ότι **η python πάντα θα ανταποκριθεί σε μια εντολή μας, αλλά όχι πάντα με την απάντηση που περιμένουμε και θέλουμε**, και αφού εμείς δεν θέλουμε να αφήνουμε αναπάντητα ερωτήματα, ας απαντήσουμε στα παραπάνω γιατί, χωρίς περιστροφές."
      ],
      "metadata": {
        "id": "cYLpd1R4YKmz"
      }
    },
    {
      "cell_type": "markdown",
      "source": [
        "###**Γιατί (να δοθεί σε φοιτητές επικοινωνίας/δημοσιογραφίας, η γλώσσα) Python;**\n",
        "\n",
        "Η Python είναι μια γλώσσα προγραμματισμού υψηλού επιπέδου (high-level programming language) σχεδιασμένη να εκτελεί πολλές εργασίες σε διάφορα πεδία, όπως:\n",
        "*   Μηχανική Μάθηση (Machine Learning ή για συντομία ML)\n",
        "*   Τεχνητή Νοημοσύνη (Artificial Intelligence ή για συντομία ΑΙ)\n",
        "*   Ανάλυση δεδομένων (Data Analytics)\n",
        "*   Οπτικοποίηση δεδομένων (Data Visualization)\n",
        "*   Εφαρμογές προγραμματισμού (Programming Applications)\n",
        "*   Διαδικτυακές εφαρμογές (Web Applications)\n",
        "*   και πολλά ακόμα.\n",
        "\n",
        "Όσο τα δεδομένα αυξάνουν, ένας/μία επικοινωνιολόγος/δημοσιογράφος θα χρειάζεται όλο και περισσότερο να ξέρει πώς να τα συλλέξει, να τα αναλύσει, να τα ερμηνεύσει και να μεταδώσει τα ευρήματα στους ενδιαφέρομενους."
      ],
      "metadata": {
        "id": "w_4MM3T-bOP8"
      }
    },
    {
      "cell_type": "markdown",
      "source": [
        "###**Γιατί (να μάθουν επικοινωνιολόγοι/δημοσιογράφοι) Python (και όχι μια άλλη γλώσσα προγραμματισμού);**\n",
        "\n",
        "Η Python είναι μια διάσημη γλώσσα προγραμματισμού επειδή είναι **εύκολη στην εκμάθηση και τη χρήση της** - συχνά μοιάζει σα να γράφεις ένα μήνυμα σε κάποιον άλλο.\n",
        "\n",
        "Επιπλέον, υπάρχει ένας **μεγάλος αριθμός διαθέσιμων βιβλιοθηκών** (που κρύβουν την πολυπλοκότητα του κώδικα) τις οποίες μπορούμε να χρησιμοποιήσουμε στα έργα μας.\n"
      ],
      "metadata": {
        "id": "xd8NBzE1mE-D"
      }
    },
    {
      "cell_type": "markdown",
      "source": [
        "###**Γιατί (η γλώσσα λέγεται) python (και όχι π.χ. P++ ή P#);**\n",
        "\n",
        "Γιατί **με την Python, ο προγραμματισμός είναι διασκέδαση** 😺\n",
        "\n",
        "`Python = \"Inspired By Monty Python\"`\n",
        "\n",
        "Το Flying Circus (ιπτάμενο τσίρκο) των **Monty Python** είναι μια κωμική - σουρεαλιστική τηλεοπτική σειρά του BBC (1969 - 1974) με μεγάλη τηλεθέαση, η οποία έχει βαθμολογία 8,8 στο [IMDB](https://www.imdb.com/title/tt0063929/). Όσο ο **Guido van Rossum** υλοποιούσε την Python, διάβαζε τα σενάρια του Flying Circus που μόλις είχαν δημοσιευτεί.\n",
        "\n",
        "![image](https://external-content.duckduckgo.com/iu/?u=https%3A%2F%2Fm.media-amazon.com%2Fimages%2FM%2FMV5BOTFmYTc3ZWEtNTYxNi00OTA4LTk2NjEtNTI2MTJlNzkyMDdlXkEyXkFqcGdeQWpybA%40%40._V1_.jpg&f=1&nofb=1&ipt=a126a0e505174144b348c65365a8bf6864ebe9aff43a2efefdbc99ea0019bd2e&ipo=images)\n",
        "\n",
        "Η επιρροή των Monty Python είναι εμφανής και αποτυπώνεται σε πολλά παραδείγματα στο [documentation](https://docs.python.org/3/library/pprint.html) της Python, όπως φαίνεται και στο παρακάτω απόσπασμα που εμφανίζονται αυγά, ξυλοκόποι και ιππότες που λένε νι.\n"
      ],
      "metadata": {
        "id": "fsJYbAQqoL9S"
      }
    },
    {
      "cell_type": "code",
      "source": [
        "stuff = ['spam', 'eggs', 'lumberjack', 'knights', 'ni'] # ορίζουμε μια λίστα με διάφορα καλούδια που έχουν χρησιμοποιήσει οι Monty Python και της δίνουμε το όνομα stuff\n",
        "print(stuff) # ζητάμε να τυπωθεί στην οθόνη η λίστα με το όνομα stuff"
      ],
      "metadata": {
        "id": "7hyHspbWaRks",
        "colab": {
          "base_uri": "https://localhost:8080/"
        },
        "outputId": "9433b8c5-0273-4c7c-bd14-c0f8e7d967d8"
      },
      "execution_count": null,
      "outputs": [
        {
          "output_type": "stream",
          "name": "stdout",
          "text": [
            "['spam', 'eggs', 'lumberjack', 'knights', 'ni']\n"
          ]
        }
      ]
    },
    {
      "cell_type": "markdown",
      "source": [
        "##**Η γλώσσα (όπως και ο πύθωνας) κόκαλα δεν έχει και κόκαλα μασάει**\n",
        "\n",
        "![image](https://external-content.duckduckgo.com/iu/?u=https%3A%2F%2Fimages.uncyc.org%2Fcommons%2Fthumb%2F2%2F20%2FMonty_python.JPG%2F175px-Monty_python.JPG&f=1&nofb=1&ipt=e73c6c294373398fa8bc40e105b1a4493b63662470ca6b4b4788acb812adda93&ipo=images)"
      ],
      "metadata": {
        "id": "Q5Ujott97owT"
      }
    },
    {
      "cell_type": "markdown",
      "source": [
        "Οι γλώσσες μπορεί να μην έχουν κόκαλα αλλά έχουν **μεταβλητές** και **μεθόδους**.\n",
        "\n",
        "Είτε έχουμε να κάνουμε με αυγά και ιππότες που λένε νι, είτε με γιατρούς, ασθενείς, τιμές θερμοκρασίας, καιρικές συνθήκες, αριθμούς μητρώου, πλήθος tweets, facebook posts, κλπ., με κάθε γλώσσα αυτό που κάνουμε είναι να **ονοματίζουμε** αντικείμενα και έννοιες και να τα **επεξεργαζόμαστε** (κατηγοριοποιούμε, απλοποιούμε, προσθαφαιρούμε, συγκρίνουμε κλπ.) για να κατανοήσουμε τα φαινόμενα με σκοπό να τα ελέγξουμε.\n",
        "\n",
        "Με δυο λόγια, πάντα μιλάμε για:\n",
        "* μεταβλητές (data **variables**) και\n",
        "* μεθόδους επεξεργασίας τους (**functions** and **methods**)"
      ],
      "metadata": {
        "id": "hFPsjDKUB6vP"
      }
    },
    {
      "cell_type": "markdown",
      "source": [
        "### **Variables στην Python**\n"
      ],
      "metadata": {
        "id": "nG74Zn-SIS8B"
      }
    },
    {
      "cell_type": "markdown",
      "source": [
        "Οι μεταβλητές είναι απαραίτητες για να αποθηκεύουμε τις τιμές των δεδομένων μας και να αναφερόμαστε σε αυτά για να τα επεξεργαστούμε. Αποθηκεύοντας μια τιμή σε μια μεταβλητή, μπορούμε να την επαναχρησιμοποιήσουμε όσες φορές και με οποιονδήποτε τρόπο θέλουμε σε όλο το έργο μας.\n",
        "\n",
        "Οι μεταβλητές μπορούν να παρομοιαστούν με κουτάκια με ετικέτες. Η ετικέτα αντιπροσωπεύει το όνομα της μεταβλητής και το περιεχόμενο του κουτιού την τιμή που περιέχει η μεταβλητή.\n",
        "\n",
        "![image.png](https://elearn.ellak.gr/pluginfile.php/4080/mod_book/chapter/1115/06.2.03var.PNG)\n"
      ],
      "metadata": {
        "id": "StdocecPJw9l"
      }
    },
    {
      "cell_type": "markdown",
      "source": [
        "Στην Python, οι μεταβλητές δημιουργούνται τη στιγμή που τους δίνουμε ή τους αναθέτουμε μια τιμή."
      ],
      "metadata": {
        "id": "2-rC78pfQt4l"
      }
    },
    {
      "cell_type": "code",
      "execution_count": null,
      "metadata": {
        "id": "7HFgbN4iJxeQ"
      },
      "outputs": [],
      "source": [
        "firstName = \"Anna\"\n",
        "age = 21\n",
        "Age = \"21\"\n",
        "_height = 1.72\n",
        "is_student = True\n",
        "pantofla5 = [\"έντεχνο\", age-21, \"μπάμιες\", \"red\", 2020]\n",
        "student = {\"firstName\":\"Βασιλική\", \"surName\":\"Βασιλείου\", \"age\":21, \"AM\":\"sme201700079\"}"
      ]
    },
    {
      "cell_type": "markdown",
      "source": [
        "Τα firstName, age, Age, _height, is_student, pantofla15 και student είναι το **όνομα** καθεμιάς από τις παραπάνω 7 μεταβλητές και τα \"Anna\", 21, \"21\", 1.72, True, [\"έντεχνο\", age-21, \"μπάμιες\", \"red\", 2020] και {\"firstName\":\"Βασιλική\", \"surName\":\"Βασιλείου\", \"age\":21, \"AM\":\"sme201700079\"} είναι οι αντίστοιχες **τιμές** των μεταβλητών."
      ],
      "metadata": {
        "id": "HIN2uMNgRHKf"
      }
    },
    {
      "cell_type": "markdown",
      "source": [
        "####**Κανόνες ονοματοδοσίας μεταβλητών**\n",
        "\n",
        "* Τα ονόματα των μεταβλητών πρέπει να **αρχίζουν με γράμμα ή underscore**   \n",
        "* Τα ονόματα των μεταβλητών μπορούν να **περιέχουν μόνο γράμματα** (πεζά ή κεφαλαία)**, αριθμούς και underscores**\n",
        "* Τα **πεζά** γράμματα θεωρούνται διαφορετικά από τα **κεφαλαία** (τα age και Age είναι δύο διαφορετικά ονόματα και άρα δύο διαφορετικές μεταβλητές)\n",
        "\n",
        "Ή αλλιώς:\n",
        "* **Τα ονόματα των μεταβλητών ΔΕΝ μπορούν να αρχίζουν με αριθμό και δεν μπορούν να περιέχουν κενά και ειδικούς χαρακτήρες (special characters) εκτός από underscores**."
      ],
      "metadata": {
        "id": "Cy5wtqapSARi"
      }
    },
    {
      "cell_type": "code",
      "source": [
        "5years_ago = 2018"
      ],
      "metadata": {
        "id": "k45RqZ1Md1zi",
        "colab": {
          "base_uri": "https://localhost:8080/",
          "height": 132
        },
        "outputId": "76451438-dd1d-498e-e6b8-95c7deeac196"
      },
      "execution_count": null,
      "outputs": [
        {
          "output_type": "error",
          "ename": "SyntaxError",
          "evalue": "ignored",
          "traceback": [
            "\u001b[0;36m  File \u001b[0;32m\"<ipython-input-4-0d5533e7f989>\"\u001b[0;36m, line \u001b[0;32m1\u001b[0m\n\u001b[0;31m    5years_ago = 2018\u001b[0m\n\u001b[0m     ^\u001b[0m\n\u001b[0;31mSyntaxError\u001b[0m\u001b[0;31m:\u001b[0m invalid syntax\n"
          ]
        }
      ]
    },
    {
      "cell_type": "code",
      "source": [
        "five-years-ago = \"H χρονιά του σκύλου\""
      ],
      "metadata": {
        "id": "jOtX8x6ke1dU",
        "colab": {
          "base_uri": "https://localhost:8080/",
          "height": 132
        },
        "outputId": "8077ef62-fcc9-4102-fe43-be6688174aed"
      },
      "execution_count": null,
      "outputs": [
        {
          "output_type": "error",
          "ename": "SyntaxError",
          "evalue": "ignored",
          "traceback": [
            "\u001b[0;36m  File \u001b[0;32m\"<ipython-input-5-9bfa255c71e7>\"\u001b[0;36m, line \u001b[0;32m1\u001b[0m\n\u001b[0;31m    five-years-ago = \"H χρονιά του σκύλου\"\u001b[0m\n\u001b[0m    ^\u001b[0m\n\u001b[0;31mSyntaxError\u001b[0m\u001b[0;31m:\u001b[0m cannot assign to operator\n"
          ]
        }
      ]
    },
    {
      "cell_type": "code",
      "source": [
        "five years = False"
      ],
      "metadata": {
        "id": "rC3YHQn2eupv",
        "colab": {
          "base_uri": "https://localhost:8080/",
          "height": 132
        },
        "outputId": "5bbd56cf-1eb6-42ff-9ac1-c2293ae78a00"
      },
      "execution_count": null,
      "outputs": [
        {
          "output_type": "error",
          "ename": "SyntaxError",
          "evalue": "ignored",
          "traceback": [
            "\u001b[0;36m  File \u001b[0;32m\"<ipython-input-6-6776547f78c0>\"\u001b[0;36m, line \u001b[0;32m1\u001b[0m\n\u001b[0;31m    five years = False\u001b[0m\n\u001b[0m         ^\u001b[0m\n\u001b[0;31mSyntaxError\u001b[0m\u001b[0;31m:\u001b[0m invalid syntax\n"
          ]
        }
      ]
    },
    {
      "cell_type": "markdown",
      "source": [
        "\n",
        "\n",
        "---\n",
        "\n",
        "\n",
        "####**Ασκηση 1**\n",
        "\n",
        "**Try yourself**: Φτιάξτε ένα νέο κελί κώδικα (Code cell) ακριβώς κάτω από αυτό και:\n",
        "\n",
        "* διορθώστε την παραπάνω μεταβλητή έτσι ώστε να τρέχει ο κώδικας (να μην πετάει error)\n",
        "* στη συνέχεια τυπώστε σε νέο cell την τιμή της μεταβλητής στην οθόνη"
      ],
      "metadata": {
        "id": "a6IaC14VeON1"
      }
    },
    {
      "cell_type": "code",
      "source": [
        "fiveyears = False"
      ],
      "metadata": {
        "id": "bXp8WzbYLlf9"
      },
      "execution_count": null,
      "outputs": []
    },
    {
      "cell_type": "code",
      "source": [
        "print (fiveyears)"
      ],
      "metadata": {
        "colab": {
          "base_uri": "https://localhost:8080/"
        },
        "id": "Uto94O9lLrNA",
        "outputId": "dcdfe27c-de4a-42e0-e50f-ddedc24ab703"
      },
      "execution_count": null,
      "outputs": [
        {
          "output_type": "stream",
          "name": "stdout",
          "text": [
            "False\n"
          ]
        }
      ]
    },
    {
      "cell_type": "markdown",
      "source": [
        "\n",
        "\n",
        "---\n"
      ],
      "metadata": {
        "id": "XXgMP_Wqfdkl"
      }
    },
    {
      "cell_type": "markdown",
      "source": [
        "####**Καλές πρακτικές για ονόματα μεταβλητών**\n",
        "\n",
        "* Τα ονόματα των μεταβλητών θα πρέπει να είναι **περιγραφικά** και **όχι πολύ μικρά ούτε πολύ μεγάλα**\n",
        "* Αν το όνομα της μεταβλητής θέλουμε να έχει περισσότερες από μία λέξεις, μπορούμε να τις χωρίσουμε με **underscores** (snake_case) ή να βάλουμε κεφαλαίο στο πρώτο γράμμα κάθε λέξης μετά την πρώτη (camelCase)\n",
        "\n",
        "Συγκρίνετε το βαθμό αναγνωσιμότητας και κατανόησης των ονομάτων των μεταβλητών στα δύο παραδείγματα."
      ],
      "metadata": {
        "id": "ZeBjZutUW_K5"
      }
    },
    {
      "cell_type": "code",
      "source": [
        "# κακή πρακτική\n",
        "fN = \"Anna\"\n",
        "a = 21\n",
        "A = \"21\"\n",
        "_h = 1.72\n",
        "isStdnt = True\n",
        "_5_things_you_hate_the_most_ = [\"έντεχνο\", age-21, \"μπάμιες\", \"red\", 2020]"
      ],
      "metadata": {
        "id": "Xp9LHkoDhtor"
      },
      "execution_count": null,
      "outputs": []
    },
    {
      "cell_type": "code",
      "source": [
        "# καλή πρακτική\n",
        "firstName = \"Anna\"\n",
        "age = 21\n",
        "Age = \"21\"\n",
        "hight = 1.72\n",
        "is_student = True\n",
        "dislikeL = [\"έντεχνο\", age-21, \"μπάμιες\", \"red\", 2020]\n",
        "\n",
        "print(firstName, age, Age, hight, is_student, dislikeL) # τύπωσε τις τιμές των μεταβλητών"
      ],
      "metadata": {
        "id": "Fu9m7whAjaNE",
        "colab": {
          "base_uri": "https://localhost:8080/"
        },
        "outputId": "b037529c-7283-4b5e-ccb4-f878c58111c1"
      },
      "execution_count": null,
      "outputs": [
        {
          "output_type": "stream",
          "name": "stdout",
          "text": [
            "Anna 21 21 1.72 True ['έντεχνο', 0, 'μπάμιες', 'red', 2020]\n"
          ]
        }
      ]
    },
    {
      "cell_type": "markdown",
      "source": [
        "\n",
        "\n",
        "---\n",
        "\n",
        "\n",
        "####**Άσκηση 2**\n",
        "\n",
        "**Try yourself**: Φτιάξτε ένα νέο κελί κώδικα (Code cell) ακριβώς κάτω από αυτό και δημιουργήστε μεταβλητές με τα στοιχεία σας:\n",
        "\n",
        "*   το μικρό σας όνομα\n",
        "*   το επίθετό σας\n",
        "*   το email σας\n",
        "*   το εξάμηνό σας\n",
        "*   τυπώστε όλα μαζί τα παραπάνω στην οθόνη"
      ],
      "metadata": {
        "id": "jpgkv9tOGwqi"
      }
    },
    {
      "cell_type": "code",
      "source": [
        "name = \"Spyridoula\"\n",
        "surname = \"Mesindianou\"\n",
        "email = \"smesindianou@media.uoa.gr\"\n",
        "semester = \"2o\""
      ],
      "metadata": {
        "id": "ZGBvbVokOMlV"
      },
      "execution_count": null,
      "outputs": []
    },
    {
      "cell_type": "code",
      "source": [
        "# μπορώ να κάνω το ίδιο με πάνω δημιουργώντας dictionary\n",
        "\n",
        "Me = { \"name\" : \"Spyridoula\" , \"surname\" : \"Mesindianou\" , \"email\" : \"smesindianou@media.uoa.gr\" , \"semester\" : \"2o\" }"
      ],
      "metadata": {
        "id": "-S_WLVUya3qP"
      },
      "execution_count": null,
      "outputs": []
    },
    {
      "cell_type": "code",
      "source": [
        "Me"
      ],
      "metadata": {
        "colab": {
          "base_uri": "https://localhost:8080/"
        },
        "id": "N2VqdzBqcfm7",
        "outputId": "b69ca12c-448f-4888-9f4b-e592c84fcc00"
      },
      "execution_count": null,
      "outputs": [
        {
          "output_type": "execute_result",
          "data": {
            "text/plain": [
              "{'name': 'Spyridoula',\n",
              " 'surname': 'Mesindianou',\n",
              " 'email': 'smesindianou@media.uoa.gr',\n",
              " 'semester': '2o'}"
            ]
          },
          "metadata": {},
          "execution_count": 18
        }
      ]
    },
    {
      "cell_type": "code",
      "source": [
        "print (name,surname,email,semester)"
      ],
      "metadata": {
        "colab": {
          "base_uri": "https://localhost:8080/"
        },
        "id": "CfEDugsaOeri",
        "outputId": "ddd8c4aa-06b7-4a12-f6eb-3e7576cfce28"
      },
      "execution_count": null,
      "outputs": [
        {
          "output_type": "stream",
          "name": "stdout",
          "text": [
            "Spyridoula Mesindianou smesindianou@media.uoa.gr 2o\n"
          ]
        }
      ]
    },
    {
      "cell_type": "markdown",
      "source": [
        "\n",
        "\n",
        "---\n",
        "\n"
      ],
      "metadata": {
        "id": "BPFY90Wch5Hu"
      }
    },
    {
      "cell_type": "markdown",
      "source": [
        "####**Κλήση της τιμής μιας μεταβλητής (Call me Loretta)**\n",
        "\n",
        "![image](https://external-content.duckduckgo.com/iu/?u=https%3A%2F%2Ftse3.mm.bing.net%2Fth%3Fid%3DOIP.vJbfzTvdoOOkimPwfgZLywAAAA%26pid%3DApi&f=1&ipt=e502804a037f0e52668cc4d8fd8846aaa11a4f59f70da2a8faeedf9d63b750b0&ipo=images)\n",
        "\n",
        "Αφού έχουμε ορίσει μια μεταβλητή, δηλαδή, έχουμε συνδέσει ένα όνομα με μια τιμή, μπορούμε να **καλέσουμε** την τιμή της, γράφοντας το όνομά της."
      ],
      "metadata": {
        "id": "x1Z0AlaqdCrC"
      }
    },
    {
      "cell_type": "code",
      "source": [
        "hight"
      ],
      "metadata": {
        "id": "hthSDGlRd4cR",
        "colab": {
          "base_uri": "https://localhost:8080/"
        },
        "outputId": "820af418-f767-4421-b298-2b91ec918c55"
      },
      "execution_count": null,
      "outputs": [
        {
          "output_type": "execute_result",
          "data": {
            "text/plain": [
              "1.72"
            ]
          },
          "metadata": {},
          "execution_count": 10
        }
      ]
    },
    {
      "cell_type": "code",
      "source": [
        "email"
      ],
      "metadata": {
        "colab": {
          "base_uri": "https://localhost:8080/",
          "height": 36
        },
        "id": "z-dmCOW0YCuL",
        "outputId": "33febf32-d30e-43dc-aefb-d0a75a37b68d"
      },
      "execution_count": null,
      "outputs": [
        {
          "output_type": "execute_result",
          "data": {
            "text/plain": [
              "'smesindianou@media.uoa.gr'"
            ],
            "application/vnd.google.colaboratory.intrinsic+json": {
              "type": "string"
            }
          },
          "metadata": {},
          "execution_count": 11
        }
      ]
    },
    {
      "cell_type": "code",
      "source": [
        "[email]"
      ],
      "metadata": {
        "colab": {
          "base_uri": "https://localhost:8080/"
        },
        "id": "VCiLomR1YQ-c",
        "outputId": "cb2fc849-5a8d-4c99-cdc1-3ac408878b6c"
      },
      "execution_count": null,
      "outputs": [
        {
          "output_type": "execute_result",
          "data": {
            "text/plain": [
              "['smesindianou@media.uoa.gr']"
            ]
          },
          "metadata": {},
          "execution_count": 12
        }
      ]
    },
    {
      "cell_type": "code",
      "source": [
        "[email]"
      ],
      "metadata": {
        "colab": {
          "base_uri": "https://localhost:8080/"
        },
        "id": "jz-OEiBlPkik",
        "outputId": "6ac83efa-4534-4c48-e778-169ef6bcbcc1"
      },
      "execution_count": null,
      "outputs": [
        {
          "output_type": "execute_result",
          "data": {
            "text/plain": [
              "['smesindianou@media.uoa.gr']"
            ]
          },
          "metadata": {},
          "execution_count": 6
        }
      ]
    },
    {
      "cell_type": "markdown",
      "source": [
        "####**Αλλαγή της τιμής μιας μεταβλητής**\n",
        "\n",
        "Κάθε φορά που γράφουμε: <το όνομα μιας μεταβλητής> = <μια τιμή>, ορίζουμε μια μεταβλητή.\n",
        "\n",
        "Αν έχουμε ορίσει ήδη μια μεταβλητή, δηλαδή έχουμε δώσει μια τιμή σε ένα όνομα και ξαναδώσουμε μια άλλη τιμή στο ίδιο όνομα, στην πράξη ορίζουμε εκ νέου μια μεταβλητή.\n",
        "\n",
        "Είναι σα να παίρνουμε την ετικέτα από ένα υπάρχον κουτί που περιέχει κάτι και να τη βάζουμε σε ένα νέο κουτί μέσα στο οποίο τοποθετούμε κάτι καινούριο. Πλέον όταν καλούμε το όνομα της ετικέτας μας επιστρέφεται το νέο περιεχόμενο. Το παλιό χάθηκε."
      ],
      "metadata": {
        "id": "M8s50s1FcNVt"
      }
    },
    {
      "cell_type": "code",
      "source": [
        "print(hight)    # τύπωσε στην οθόνη την υπάρχουσα τιμή της μεταβλητής _height\n",
        "hight = 1.80\n",
        "hight"
      ],
      "metadata": {
        "id": "RTf7wOxxkuT8",
        "colab": {
          "base_uri": "https://localhost:8080/"
        },
        "outputId": "c8216439-c0e9-49d4-c2eb-88a1e004c3d9"
      },
      "execution_count": null,
      "outputs": [
        {
          "output_type": "stream",
          "name": "stdout",
          "text": [
            "1.72\n"
          ]
        },
        {
          "output_type": "execute_result",
          "data": {
            "text/plain": [
              "1.8"
            ]
          },
          "metadata": {},
          "execution_count": 11
        }
      ]
    },
    {
      "cell_type": "markdown",
      "source": [
        "###**Τύποι δεδομένων (Data types) στις μεταβλητές**\n",
        "\n",
        "![image](https://external-content.duckduckgo.com/iu/?u=http%3A%2F%2F1.bp.blogspot.com%2F-jxyv-vkHaFQ%2FU66bzgaNmuI%2FAAAAAAAAaA8%2F3xf2pmWtp4Y%2Fs1600%2Fu72743py847.jpg&f=1&nofb=1&ipt=916ca504efdd285e996908d4056b7960756a8a4b495ce98ff80f23398b3db038&ipo=images)\n"
      ],
      "metadata": {
        "id": "WtsJkn7fhuB8"
      }
    },
    {
      "cell_type": "markdown",
      "source": [
        "Οι μεταβλητές στην Python μπορούν να περιέχουν διάφορους τύπους δεδομένων, όπως **integers** (int), **floats** (float), **strings** (str), **booleans** (bool), **lists** (list) και **dictionaries** (dict)."
      ],
      "metadata": {
        "id": "B-HqOR7TkknJ"
      }
    },
    {
      "cell_type": "markdown",
      "source": [
        "###**Integers**\n",
        "είναι οι ακέραιοι αριθμοί, θετικοί και αρνητικοί."
      ],
      "metadata": {
        "id": "NcC56rEkmGNB"
      }
    },
    {
      "cell_type": "code",
      "source": [
        "age = 21\n",
        "type(age) # πες μου τον τύπο της μεταβλητής age"
      ],
      "metadata": {
        "id": "fUuxM5UrmS3J",
        "colab": {
          "base_uri": "https://localhost:8080/"
        },
        "outputId": "107b6111-a31f-48ea-db59-c1e591e81791"
      },
      "execution_count": null,
      "outputs": [
        {
          "output_type": "execute_result",
          "data": {
            "text/plain": [
              "int"
            ]
          },
          "metadata": {},
          "execution_count": 6
        }
      ]
    },
    {
      "cell_type": "code",
      "source": [
        "type (name)"
      ],
      "metadata": {
        "colab": {
          "base_uri": "https://localhost:8080/"
        },
        "id": "esXCIQd5P_4k",
        "outputId": "35cca021-f5cf-4fbf-de68-c3465f91baeb"
      },
      "execution_count": null,
      "outputs": [
        {
          "output_type": "execute_result",
          "data": {
            "text/plain": [
              "str"
            ]
          },
          "metadata": {},
          "execution_count": 7
        }
      ]
    },
    {
      "cell_type": "code",
      "source": [
        "print(age) # τύπωσε στην οθόνη την τιμή της μεταβλητής age"
      ],
      "metadata": {
        "id": "Knj7529xcCrq",
        "colab": {
          "base_uri": "https://localhost:8080/"
        },
        "outputId": "c4b42907-ad4c-401b-95f6-aa2e3b1ecd3d"
      },
      "execution_count": null,
      "outputs": [
        {
          "output_type": "stream",
          "name": "stdout",
          "text": [
            "21\n"
          ]
        }
      ]
    },
    {
      "cell_type": "code",
      "source": [
        "print (semester)"
      ],
      "metadata": {
        "colab": {
          "base_uri": "https://localhost:8080/"
        },
        "id": "2ZJHxe5HQEf1",
        "outputId": "fb3ba0a2-a970-46ee-90d3-3872144be875"
      },
      "execution_count": null,
      "outputs": [
        {
          "output_type": "stream",
          "name": "stdout",
          "text": [
            "2o\n"
          ]
        }
      ]
    },
    {
      "cell_type": "code",
      "source": [
        "age # καλώ την age"
      ],
      "metadata": {
        "id": "2bGVCIrwvNXF",
        "colab": {
          "base_uri": "https://localhost:8080/"
        },
        "outputId": "dc2e502e-e545-485b-f88f-3d04657e212a"
      },
      "execution_count": null,
      "outputs": [
        {
          "output_type": "execute_result",
          "data": {
            "text/plain": [
              "21"
            ]
          },
          "metadata": {},
          "execution_count": 14
        }
      ]
    },
    {
      "cell_type": "code",
      "source": [
        "email"
      ],
      "metadata": {
        "colab": {
          "base_uri": "https://localhost:8080/",
          "height": 36
        },
        "id": "34nA8jiYQLzU",
        "outputId": "149f22a1-4505-4095-8140-3fb1baa4d3aa"
      },
      "execution_count": null,
      "outputs": [
        {
          "output_type": "execute_result",
          "data": {
            "text/plain": [
              "'smesindianou@media.uoa.gr'"
            ],
            "application/vnd.google.colaboratory.intrinsic+json": {
              "type": "string"
            }
          },
          "metadata": {},
          "execution_count": 10
        }
      ]
    },
    {
      "cell_type": "markdown",
      "source": [
        "###**Floats**\n",
        "είναι οι δεκαδικοί αριθμοί."
      ],
      "metadata": {
        "id": "unEUoV04nPrA"
      }
    },
    {
      "cell_type": "code",
      "source": [
        "hight = 1.72\n",
        "type(hight)"
      ],
      "metadata": {
        "id": "x_ANQmESnkuL",
        "colab": {
          "base_uri": "https://localhost:8080/"
        },
        "outputId": "900719ab-3bdc-4a1c-be94-2556dd1396e6"
      },
      "execution_count": null,
      "outputs": [
        {
          "output_type": "execute_result",
          "data": {
            "text/plain": [
              "float"
            ]
          },
          "metadata": {},
          "execution_count": 15
        }
      ]
    },
    {
      "cell_type": "code",
      "source": [
        "print(hight)"
      ],
      "metadata": {
        "id": "jl138qQVvVeV",
        "colab": {
          "base_uri": "https://localhost:8080/"
        },
        "outputId": "0b45b8e2-6197-4886-b3cd-4e18dd055c03"
      },
      "execution_count": null,
      "outputs": [
        {
          "output_type": "stream",
          "name": "stdout",
          "text": [
            "1.72\n"
          ]
        }
      ]
    },
    {
      "cell_type": "code",
      "source": [
        "hight"
      ],
      "metadata": {
        "id": "UmhCnXEXvdcA",
        "colab": {
          "base_uri": "https://localhost:8080/"
        },
        "outputId": "ba00b106-15ee-4702-bd27-2293bfd048e0"
      },
      "execution_count": null,
      "outputs": [
        {
          "output_type": "execute_result",
          "data": {
            "text/plain": [
              "1.72"
            ]
          },
          "metadata": {},
          "execution_count": 17
        }
      ]
    },
    {
      "cell_type": "markdown",
      "source": [
        "**Με τους integers και τους floats, μπορούμε να κάνουμε μαθηματικές πράξεις, χρησιμοποιώντας αριθμητικούς τελεστές:**\n",
        "\n",
        "![image](https://external-content.duckduckgo.com/iu/?u=https%3A%2F%2Fd1e4pidl3fu268.cloudfront.net%2Ff20083ef-a2fb-4673-ac88-13d58ba68133%2FArithmeticoperators.png&f=1&nofb=1&ipt=bcb0ecc96db365903ba17a475fc066f815d4c2011e07abe95982288676d591a2&ipo=images)"
      ],
      "metadata": {
        "id": "dbx0vpzeHNi8"
      }
    },
    {
      "cell_type": "code",
      "source": [
        "a = 5\n",
        "b = 3.5\n",
        "c = a + b              # πρόσθεση\n",
        "d = a - b              # αφαίρεση\n",
        "e = a*b                # πολλαπλασιασμός\n",
        "f = a/b                # διαίρεση\n",
        "g = a//b               # πηλίκο διαίρεσης\n",
        "h = a%b                # υπόλοιπο διαίρεσης\n",
        "i = a**b               # ύψωση σε δύναμη"
      ],
      "metadata": {
        "id": "rEw1usNiHg1G"
      },
      "execution_count": null,
      "outputs": []
    },
    {
      "cell_type": "code",
      "source": [
        "print(\"a =\", a)\n",
        "print(\"b =\", b)\n",
        "print(\"a+b =\", c)\n",
        "print(\"a-b =\", d)\n",
        "print(\"a*b =\", e)\n",
        "print(\"a/b =\", f)\n",
        "print(\"πηλίκο διαίρεσης a/b =\", (g))\n",
        "print(\"υπόλοιπο διαίρεσης a/b =\", h)\n",
        "print(\"το a υψωμένο στη δύναμη του b =\", i)"
      ],
      "metadata": {
        "id": "VW3WcEPpucpJ",
        "colab": {
          "base_uri": "https://localhost:8080/"
        },
        "outputId": "bf291af3-49c2-46a2-b445-9a5c25e9d2c0"
      },
      "execution_count": null,
      "outputs": [
        {
          "output_type": "stream",
          "name": "stdout",
          "text": [
            "a = 5\n",
            "b = 3.5\n",
            "a+b = 8.5\n",
            "a-b = 1.5\n",
            "a*b = 17.5\n",
            "a/b = 1.4285714285714286\n",
            "πηλίκο διαίρεσης a/b = 1.0\n",
            "υπόλοιπο διαίρεσης a/b = 1.5\n",
            "το a υψωμένο στη δύναμη του b = 279.5084971874737\n"
          ]
        }
      ]
    },
    {
      "cell_type": "markdown",
      "source": [
        "**Σημείωση**: Μπορούμε να μετατρέψουμε έναν ακέραιο σε δεκαδικό και το ανάποδο, με τη χρήση των **functions** int() και float()."
      ],
      "metadata": {
        "id": "WGe6rQ0cz2Re"
      }
    },
    {
      "cell_type": "code",
      "source": [
        "print(b)           # το b είναι δεκαδικός\n",
        "print(int(b))      # με το function int(b) το μετατρέπω σε ακέραιο\n",
        "print(a)           # το a είναι ακέραιος\n",
        "print(float(a))    # με το function float(a) το μετατρέπω σε δεκαδικό"
      ],
      "metadata": {
        "id": "xxD0ZNtMz_Sa",
        "colab": {
          "base_uri": "https://localhost:8080/"
        },
        "outputId": "7ab684dd-0521-4cc6-88ee-1e7addf1cc34"
      },
      "execution_count": null,
      "outputs": [
        {
          "output_type": "stream",
          "name": "stdout",
          "text": [
            "3.5\n",
            "3\n",
            "5\n",
            "5.0\n"
          ]
        }
      ]
    },
    {
      "cell_type": "markdown",
      "source": [
        "**Σημείωση**: Η εκτέλεση ενός function ΔΕΝ αποθηκεύει τη μετατροπή.\n",
        "\n",
        "Για να αποθηκευτεί η μετατροπή μιας τιμής πρέπει να (ξανα)ορίσουμε τη μεταβλητή."
      ],
      "metadata": {
        "id": "kzxcSHqy1kb_"
      }
    },
    {
      "cell_type": "code",
      "source": [
        "print(b)        # η τιμή του b παραμένει δεκαδικός\n",
        "bb = int(b)     # ορίζω μια νέα μεταβλητή με όνομα bb και της δίνω την τιμή της μετατροπής του δεκαδικού b σε ακέραιο\n",
        "print(bb)\n",
        "b = int(b)      # αλλάζω την τιμή της ίδιας μεταβλητής\n",
        "print(b)        # τώρα και η τιμή της μεταβλητής που ήταν δεκαδικός είναι πλέον ακέραιος"
      ],
      "metadata": {
        "id": "bSOyuZfF1cmf",
        "colab": {
          "base_uri": "https://localhost:8080/"
        },
        "outputId": "5f35e97c-2823-4bff-81e5-292186d43a78"
      },
      "execution_count": null,
      "outputs": [
        {
          "output_type": "stream",
          "name": "stdout",
          "text": [
            "3.5\n",
            "3\n",
            "3\n"
          ]
        }
      ]
    },
    {
      "cell_type": "markdown",
      "source": [
        "\n",
        "\n",
        "---\n",
        "\n",
        "####**Άσκηση 3**\n",
        "\n",
        "**Try yourself**: Φτιάξτε ένα νέο κελί κώδικα (Code cell) ακριβώς κάτω από αυτό και κάνετε τα παρακάτω:\n",
        "\n",
        "* δημιουργήστε 3 μεταβλητές, όπου η καθεμιά θα έχει τη θερμοκρασία του αέρα όπως την καταγράψαμε το πρωί, το μεσημέρι και το βράδυ\n",
        "* βρείτε το μέσο όρο των θερμοκρασιών\n",
        "* βρείτε τη μέγιστη διαφορά των θερμοκρασιών\n",
        "* δημιουργήστε μια νέα μεταβλητή που θα περιέχει την τιμή της μέσης θερμοκρασίας σε ακέραιο\n",
        "* ελέγξτε τα αποτελέσματα τυπώνοντάς τα στην οθόνη\n"
      ],
      "metadata": {
        "id": "vRX4qEn2G8u4"
      }
    },
    {
      "cell_type": "code",
      "source": [
        "temperature1 = 7\n",
        "temperature2 = 12\n",
        "temperature3 = 5\n",
        "\n",
        "mesos_oros = (temperature1 + temperature2 + temperature3) / 3\n",
        "\n",
        "print (mesos_oros)\n",
        "\n",
        "print (temperature2 - temperature3)"
      ],
      "metadata": {
        "colab": {
          "base_uri": "https://localhost:8080/"
        },
        "id": "aWqnNYoTUPJ5",
        "outputId": "10cec478-c765-4c9e-d636-4009d80bc580"
      },
      "execution_count": null,
      "outputs": [
        {
          "output_type": "stream",
          "name": "stdout",
          "text": [
            "8.0\n",
            "7\n"
          ]
        }
      ]
    },
    {
      "cell_type": "markdown",
      "source": [
        "\n",
        "\n",
        "---\n",
        "\n"
      ],
      "metadata": {
        "id": "9e8P749w98T9"
      }
    },
    {
      "cell_type": "markdown",
      "source": [
        "###**Strings**\n",
        "είναι συμβολοσειρές, δηλαδή λέξεις και προτάσεις. Μπαίνουν **μέσα σε  μονά ή διπλά εισαγωγικά** και μπορούν να περιέχουν εκτός από γράμματα και αριθμούς, κενά και οποιοδήποτε ειδικό χαρακτήρα."
      ],
      "metadata": {
        "id": "-F58rycSoNRN"
      }
    },
    {
      "cell_type": "code",
      "source": [
        "name = \"Monty Python\"\n",
        "type(name)"
      ],
      "metadata": {
        "id": "_EdeklMS9xyF",
        "colab": {
          "base_uri": "https://localhost:8080/"
        },
        "outputId": "c96edcd9-e269-4ade-e766-0a5de6f80dfe"
      },
      "execution_count": null,
      "outputs": [
        {
          "output_type": "execute_result",
          "data": {
            "text/plain": [
              "str"
            ]
          },
          "metadata": {},
          "execution_count": 7
        }
      ]
    },
    {
      "cell_type": "code",
      "source": [
        "Age = \"21\"\n",
        "type(Age)"
      ],
      "metadata": {
        "id": "60YJidnM9tkm",
        "colab": {
          "base_uri": "https://localhost:8080/"
        },
        "outputId": "0d46a0bf-b91f-449f-af65-0ab98abec1fd"
      },
      "execution_count": null,
      "outputs": [
        {
          "output_type": "execute_result",
          "data": {
            "text/plain": [
              "str"
            ]
          },
          "metadata": {},
          "execution_count": 8
        }
      ]
    },
    {
      "cell_type": "code",
      "source": [
        "email = 'lifeofbryan@gmail.com'\n",
        "type(email)"
      ],
      "metadata": {
        "id": "YkRD5U5MpA0i",
        "colab": {
          "base_uri": "https://localhost:8080/"
        },
        "outputId": "0573e47b-b452-4181-98d4-044ee8e22de2"
      },
      "execution_count": null,
      "outputs": [
        {
          "output_type": "execute_result",
          "data": {
            "text/plain": [
              "str"
            ]
          },
          "metadata": {},
          "execution_count": 9
        }
      ]
    },
    {
      "cell_type": "markdown",
      "source": [
        "**Οι αριθμητικές πράξεις με strings δίνουν νέα strings**"
      ],
      "metadata": {
        "id": "TWPOP-cJN3yk"
      }
    },
    {
      "cell_type": "code",
      "source": [
        "a = \"Hello\"\n",
        "b = \" \" # string με ένα space\n",
        "c = \"everybody\"\n",
        "d = \"*\"*20\n",
        "print(d, a + b + c, d) # τύπωσε στην οθόνη τις μεταβλητές a, b, c, d με αυτή τη σειρά και αυτές τις πράξεις"
      ],
      "metadata": {
        "id": "l_LvymgBM4Aa",
        "colab": {
          "base_uri": "https://localhost:8080/"
        },
        "outputId": "7fb31970-3055-49b9-8bad-ad1dc809d512"
      },
      "execution_count": null,
      "outputs": [
        {
          "output_type": "stream",
          "name": "stdout",
          "text": [
            "******************** Hello everybody ********************\n"
          ]
        }
      ]
    },
    {
      "cell_type": "code",
      "source": [
        "first_name = \"Aliki\"\n",
        "last_name = \"Ioannou\"\n",
        "full_name = first_name + \" \" + last_name\n",
        "print(full_name)"
      ],
      "metadata": {
        "id": "yf9G-eIYyqaE",
        "colab": {
          "base_uri": "https://localhost:8080/"
        },
        "outputId": "820d8b97-78ee-4444-d020-207de82fabb6"
      },
      "execution_count": null,
      "outputs": [
        {
          "output_type": "stream",
          "name": "stdout",
          "text": [
            "Aliki Ioannou\n"
          ]
        }
      ]
    },
    {
      "cell_type": "markdown",
      "source": [
        "**Σημείωση**: Το 21 δεν είναι το ίδιο με το \"21\". Το πρώτο είναι int, ενώ το δεύτερο str."
      ],
      "metadata": {
        "id": "-KC66ztRDbtC"
      }
    },
    {
      "cell_type": "code",
      "source": [
        "age, Age # καλώ 2 μεταβλητές (τις χωρίζω με κόμμα)"
      ],
      "metadata": {
        "id": "rL2V5RYfDwVQ",
        "colab": {
          "base_uri": "https://localhost:8080/"
        },
        "outputId": "aa6ac47e-29c5-46b9-f675-35cececbe002"
      },
      "execution_count": null,
      "outputs": [
        {
          "output_type": "execute_result",
          "data": {
            "text/plain": [
              "(21, '21')"
            ]
          },
          "metadata": {},
          "execution_count": 10
        }
      ]
    },
    {
      "cell_type": "markdown",
      "source": [
        "**Σημείωση**: Μπορούμε να μετατρέψουμε έναν αριθμό σε string με τη χρήση της συνάρτησης (function) **str()**, και το ανάποδο αν το string περιέχει αριθμό."
      ],
      "metadata": {
        "id": "_ZLGH0N0EEXD"
      }
    },
    {
      "cell_type": "code",
      "source": [
        "print(\"age:\", type(age), \",\", \"value =\", age)                  # τύπωσε στην οθόνη τον τύπο της μεταβλητής age και την τιμή της\n",
        "print(\"age to str:\", type(str(age)), \",\", \"value =\", str(age)) # τύπωσε στην οθόνη τον τύπο της μετατροπής της age σε string και την τιμή της\n",
        "print(\"Age:\", type(Age), \",\", \"value =\", Age)\n",
        "print(\"Age to int:\", type(int(Age)), \",\", \"value =\", str(Age))"
      ],
      "metadata": {
        "id": "-lVlp26CEe67",
        "colab": {
          "base_uri": "https://localhost:8080/"
        },
        "outputId": "2ee65de6-9c99-40c0-d5f8-2ca8131a2065"
      },
      "execution_count": null,
      "outputs": [
        {
          "output_type": "stream",
          "name": "stdout",
          "text": [
            "age: <class 'int'> , value = 21\n",
            "age to str: <class 'str'> , value = 21\n",
            "Age: <class 'str'> , value = 21\n",
            "Age to int: <class 'int'> , value = 21\n"
          ]
        }
      ]
    },
    {
      "cell_type": "markdown",
      "source": [
        "###**Booleans**\n",
        "είναι οι τιμές True ή False."
      ],
      "metadata": {
        "id": "bN16jwbupqz-"
      }
    },
    {
      "cell_type": "code",
      "source": [
        "is_student = True\n",
        "type(is_student)"
      ],
      "metadata": {
        "id": "sGxI8kPapqL0",
        "colab": {
          "base_uri": "https://localhost:8080/"
        },
        "outputId": "b7bea46c-855a-4457-8f2a-bd0eb4c88b2e"
      },
      "execution_count": null,
      "outputs": [
        {
          "output_type": "execute_result",
          "data": {
            "text/plain": [
              "bool"
            ]
          },
          "metadata": {},
          "execution_count": 11
        }
      ]
    },
    {
      "cell_type": "code",
      "source": [
        "age == Age # σύγκρινε τo age με το Age και πες μου αν οι τιμές τους είναι ίσες (το διπλό ίσον είναι ένας συγκριτικός τελεστής: ελέγχει την ισότητα)"
      ],
      "metadata": {
        "id": "BR8LZ4nFD1KB",
        "colab": {
          "base_uri": "https://localhost:8080/"
        },
        "outputId": "67265369-56f9-41fa-da6a-5574c123d57a"
      },
      "execution_count": null,
      "outputs": [
        {
          "output_type": "execute_result",
          "data": {
            "text/plain": [
              "False"
            ]
          },
          "metadata": {},
          "execution_count": 12
        }
      ]
    },
    {
      "cell_type": "markdown",
      "source": [
        "Οι τιμές True και False είναι **εξαιρετικά χρήσιμες** για να μπορούμε να εκτελούμε μετατροπές υπό όρους (δηλαδή ανάλογα με το αν η τιμή μιας συνθήκης είναι αληθής ή ψευδής)."
      ],
      "metadata": {
        "id": "swR0vqPeGj6k"
      }
    },
    {
      "cell_type": "markdown",
      "source": [
        "#####**Συγκριτικοί τελεστές** (συγκρίνουν 2 μεταβλητές και επιστρέφουν ανάλογα True ή False)\n",
        "\n",
        "![image](https://external-content.duckduckgo.com/iu/?u=https%3A%2F%2Fd1e4pidl3fu268.cloudfront.net%2F48295477-61ac-4b5e-a6dc-456acd3ab0a6%2Fcomparisonoperators.png&f=1&nofb=1&ipt=d457257814c39465ccf667d786fef33d54d11f372620925fba946c32d01b1aba&ipo=images)"
      ],
      "metadata": {
        "id": "oqxZpTtgMoAq"
      }
    },
    {
      "cell_type": "code",
      "source": [
        "a = 5\n",
        "b = 3\n",
        "print(\"a =\", a)\n",
        "print(\"b =\", b)\n",
        "print(\"a is equal to b:\", a == b)\n",
        "print(\"a is not equal to b:\", a != b)\n",
        "print(\"a is greater than b:\", a > b)\n",
        "print(\"a is less than b:\", a < b)\n",
        "print(\"a is greater than or equal to b:\", a >= b)\n",
        "print(\"a is less than or equal to b:\", a <= b)\n",
        "print(\"\\n\")  # τύπωσε στην οθόνη μια κενή γραμμή (new line)\n",
        "print(\"a and b share the same data type:\", type(a) == type(b))\n",
        "print(\"\\n\")\n",
        "type(a) != type(b) # έλεγξε αν ο τύπος δεδομένων των a και b δεν είναι ίδιος (χωρίς την εντολή print())"
      ],
      "metadata": {
        "id": "LViR4qRFQgxi",
        "colab": {
          "base_uri": "https://localhost:8080/"
        },
        "outputId": "0542373e-e693-4365-fe00-4f486f61c799"
      },
      "execution_count": null,
      "outputs": [
        {
          "output_type": "stream",
          "name": "stdout",
          "text": [
            "a = 5\n",
            "b = 3\n",
            "a is equal to b: False\n",
            "a is not equal to b: True\n",
            "a is greater than b: True\n",
            "a is less than b: False\n",
            "a is greater than or equal to b: True\n",
            "a is less than or equal to b: False\n",
            "\n",
            "\n",
            "a and b share the same data type: True\n",
            "\n",
            "\n"
          ]
        },
        {
          "output_type": "execute_result",
          "data": {
            "text/plain": [
              "False"
            ]
          },
          "metadata": {},
          "execution_count": 31
        }
      ]
    },
    {
      "cell_type": "markdown",
      "source": [
        "\n",
        "\n",
        "---\n",
        "\n",
        "####**Άσκηση 4**\n",
        "\n",
        "**Try yourself**: Φτιάξτε ένα νέο κελί κώδικα (Code cell) ακριβώς κάτω από αυτό και κάνετε τα παρακάτω:\n",
        "\n",
        "* δημιουργήστε μια μεταβλητή με την πόλη που μένετε και μία με το αγαπημένο σας ταξιδιωτικό προορισμό\n",
        "* ελέγξτε την ομοιότητα του τύπου των μεταβλητών\n",
        "* ελέγξτε την ισότητα των μεταβλητών\n",
        "* ελέγξτε αν η μεταβλητή της πόλης είναι μικρότερη της μεταβλητής του ταξιδιωτικού προορισμού\n",
        "\n",
        "Τι νομίζετε ότι σημαίνει ότι ένα string είναι μεγαλύτερο, μικρότερο ή ίσο με ένα άλλο; (Γράψτε την απάντησή σας σε ένα νέο text cell ή σε ένα code cell σαν σχόλιο)\n"
      ],
      "metadata": {
        "id": "aGZeKxdwHE-i"
      }
    },
    {
      "cell_type": "code",
      "source": [
        "city = \"Athens\"\n",
        "voyage = \"Crete\"\n",
        "\n",
        "print (type (city) == type (voyage))\n",
        "\n",
        "print (city == voyage)\n",
        "\n",
        "print (city < voyage)\n",
        "\n",
        "# συγκρίνει τις λέξεις αλφαβητικά (a<c γιατί είναι πιο πριν)"
      ],
      "metadata": {
        "colab": {
          "base_uri": "https://localhost:8080/"
        },
        "id": "-3lLI24EWyUA",
        "outputId": "77226168-579e-4378-fa39-cb0866fe5947"
      },
      "execution_count": null,
      "outputs": [
        {
          "output_type": "stream",
          "name": "stdout",
          "text": [
            "True\n",
            "False\n",
            "True\n"
          ]
        }
      ]
    },
    {
      "cell_type": "markdown",
      "source": [
        "\n",
        "\n",
        "---\n",
        "\n"
      ],
      "metadata": {
        "id": "AQ0i1AgXLwF5"
      }
    },
    {
      "cell_type": "markdown",
      "source": [
        "###**Lists**\n",
        "είναι συλλογές τιμών.\n",
        "\n",
        "* Οι τιμές μπορούν να είναι οποιουδήποτε τύπου, δηλαδή int, float, str, bool, list, dict κλπ.\n",
        "* Οι τιμές μιας λίστας μπαίνουν μέσα σε **square brackets** ([]) και διαχωρίζονται μεταξύ τους με **κόμμα**\n",
        "* Μπορούμε να ορίσουμε μια κενή λίστα (π.χ. a_list = [])\n",
        "\n",
        "**Σημείωση**: Μέσα σε μια λίστα μπορούμε να βάλουμε και το όνομα μεταβλητών, καθώς και πράξεις."
      ],
      "metadata": {
        "id": "-wifdRY_p-3J"
      }
    },
    {
      "cell_type": "code",
      "source": [
        "# age είναι το όνομα της μεταβλητής που ορίσαμε παραπάνω και το age-20.5 σημαίνει: αφαίρεσε από την τιμή της age τον αριθμό 20.5\n",
        "pantofla5 = ['έντεχνο', age-20.5, 'μπάμιες', 'red', 2020]\n",
        "print(type(pantofla5))\n",
        "print(pantofla5)\n",
        "print(\"\\n\")\n",
        "a_list = []\n",
        "print(\"a_list =\", a_list)"
      ],
      "metadata": {
        "id": "q7ETyyJ5QYwZ",
        "colab": {
          "base_uri": "https://localhost:8080/"
        },
        "outputId": "83b3901e-7043-4281-c30a-08f3c5469f89"
      },
      "execution_count": null,
      "outputs": [
        {
          "output_type": "stream",
          "name": "stdout",
          "text": [
            "<class 'list'>\n",
            "['έντεχνο', 0.5, 'μπάμιες', 'red', 2020]\n",
            "\n",
            "\n",
            "a_list = []\n"
          ]
        }
      ]
    },
    {
      "cell_type": "markdown",
      "source": [
        "**Σημείωση**: Μπορούμε να συνενώσουμε λίστες (concatenate) με απλή πρόσθεση"
      ],
      "metadata": {
        "id": "_yq8XRXoFhxB"
      }
    },
    {
      "cell_type": "code",
      "source": [
        "rolesL = [\"bryan\", \"loretta\"]\n",
        "tourlouboukiL = pantofla5 + rolesL\n",
        "tourlouboukiL"
      ],
      "metadata": {
        "id": "jTFc0T0hEJyI",
        "colab": {
          "base_uri": "https://localhost:8080/"
        },
        "outputId": "52e637db-4795-4c8b-9149-eab1e8198b4a"
      },
      "execution_count": null,
      "outputs": [
        {
          "output_type": "execute_result",
          "data": {
            "text/plain": [
              "['έντεχνο', 0.5, 'μπάμιες', 'red', 2020, 'bryan', 'loretta']"
            ]
          },
          "metadata": {},
          "execution_count": 14
        }
      ]
    },
    {
      "cell_type": "code",
      "source": [
        "\"έντεχνο\" in tourlouboukiL"
      ],
      "metadata": {
        "colab": {
          "base_uri": "https://localhost:8080/"
        },
        "id": "nn3mCVZZMcmy",
        "outputId": "51a18a46-c58e-4e81-bc83-74d04c789a4e"
      },
      "execution_count": null,
      "outputs": [
        {
          "output_type": "execute_result",
          "data": {
            "text/plain": [
              "True"
            ]
          },
          "metadata": {},
          "execution_count": 15
        }
      ]
    },
    {
      "cell_type": "markdown",
      "source": [
        "####**Λειτουργίες με λίστες**"
      ],
      "metadata": {
        "id": "4ii5L4QAZLqA"
      }
    },
    {
      "cell_type": "markdown",
      "source": [
        "#####**index**\n",
        "\n",
        "* Τα αντικείμενα μιας λίστας φέρουν αρίθμηση (index). Η αρίθμηση ξεκινά από το 0, δηλαδή **το πρώτο αντικείμενο έχει αύξοντα αριθμό 0**, το δεύτερο έχει αύξοντα αριθμό 1, κ.ο.κ.\n",
        "\n",
        "* Αν ξεκινήσουμε από το τέλος, το τελευταίο αντικείμενο έχει φθίνοντα αριθμό -1, το προτελευταίο έχει -2, κ.ο.κ.\n",
        "\n",
        "![](https://external-content.duckduckgo.com/iu/?u=https%3A%2F%2Fcdn.programiz.com%2Fsites%2Ftutorial2program%2Ffiles%2Fpython-list-index.png&f=1&nofb=1&ipt=2687d09509e60524c9c97e42f5d89cd5c27b15bd6707044b538997c7d5bea3a2&ipo=images)\n",
        "\n"
      ],
      "metadata": {
        "id": "dt2jE9umuo5I"
      }
    },
    {
      "cell_type": "markdown",
      "source": [
        "#####**Κλήση αντικειμένων μιας λίστας με βάση το index**\n",
        "\n",
        "<όνομα λίστας>[<αριθμός index του επιθυμητού αντικειμένου>]"
      ],
      "metadata": {
        "id": "vjYKVPrjaIdz"
      }
    },
    {
      "cell_type": "code",
      "source": [
        "sm_list = [\"τυρί\", \"ρύζι\", \"γάλα\", \"καμπά\", \"ιππότης που λέει νι\"] # φτιάξε μια λίστα\n",
        "print(sm_list[1])                                                  # τύπωσε το δεύτερο αντικείμενο της λίστας\n",
        "print(sm_list[-1])                                                 # τύπωσε το τελευταίο αντικείμενο της λίσταςtype(sm_list)"
      ],
      "metadata": {
        "id": "S9TFc8e7qbGl",
        "colab": {
          "base_uri": "https://localhost:8080/"
        },
        "outputId": "da66922a-0587-4d83-9fe2-d949edad58a4"
      },
      "execution_count": null,
      "outputs": [
        {
          "output_type": "stream",
          "name": "stdout",
          "text": [
            "ρύζι\n",
            "ιππότης που λέει νι\n"
          ]
        }
      ]
    },
    {
      "cell_type": "markdown",
      "source": [
        "#####**Εύρος αντικειμένων μιας λίστας (slicing)**\n",
        "\n",
        "<όνομα λίστας>[<αριθμός index του πρώτου επιθυμητού αντικειμένου>:<αριθμός index του επόμενου από το τελευταίο επιθυμητό αντικειμένο>]"
      ],
      "metadata": {
        "id": "Xi9VaUw7zMHi"
      }
    },
    {
      "cell_type": "code",
      "source": [
        "sm_list[1:-1]  # το εύρος ορίζεται από το index του πρώτου επιθυμητού αντικειμένου, έως (:), το index του επόμενου από το τελευταίο επιθυμητό αντικείμενο"
      ],
      "metadata": {
        "id": "-ISezCdNzVoz",
        "colab": {
          "base_uri": "https://localhost:8080/"
        },
        "outputId": "c1df014c-bb95-4f2c-afd8-cce37d297abf"
      },
      "execution_count": null,
      "outputs": [
        {
          "output_type": "execute_result",
          "data": {
            "text/plain": [
              "['ρύζι', 'γάλα', 'καμπά']"
            ]
          },
          "metadata": {},
          "execution_count": 35
        }
      ]
    },
    {
      "cell_type": "code",
      "source": [
        "sm_list[:2]  # αν θέλουμε τα αντικείμενα από την αρχή έως ένα συγκεκριμένο, παραλείπουμε τον αριθμό του index αριστερά του :"
      ],
      "metadata": {
        "id": "_3JEg5eszJ-0",
        "colab": {
          "base_uri": "https://localhost:8080/"
        },
        "outputId": "9979f0e5-fd8a-4c6d-8461-961e9b1b6958"
      },
      "execution_count": null,
      "outputs": [
        {
          "output_type": "execute_result",
          "data": {
            "text/plain": [
              "['τυρί', 'ρύζι']"
            ]
          },
          "metadata": {},
          "execution_count": 36
        }
      ]
    },
    {
      "cell_type": "code",
      "source": [
        "sm_list[2:]  # αν θέλουμε τα αντικείμενα από ένα συγκεκριμένο έως και το τελευταίο, παραλείπουμε τον αριθμό του index δεξιά του :"
      ],
      "metadata": {
        "id": "p2vKunG92GdY",
        "colab": {
          "base_uri": "https://localhost:8080/"
        },
        "outputId": "d7d27b36-f76a-4c5b-d2f3-58370dd416af"
      },
      "execution_count": null,
      "outputs": [
        {
          "output_type": "execute_result",
          "data": {
            "text/plain": [
              "['γάλα', 'καμπά', 'ιππότης που λέει νι']"
            ]
          },
          "metadata": {},
          "execution_count": 37
        }
      ]
    },
    {
      "cell_type": "code",
      "source": [
        "print(sm_list[:])  # αν βάλουμε μόνο το : τα παίρνουμε όλα, που είναι ίδιο με το να μην ορίσουμε κανένα εύρος\n",
        "print(sm_list)"
      ],
      "metadata": {
        "id": "qRhO_sGD2hFe",
        "colab": {
          "base_uri": "https://localhost:8080/"
        },
        "outputId": "fb1fbe12-66a9-42c4-c1a0-64d506549a00"
      },
      "execution_count": null,
      "outputs": [
        {
          "output_type": "stream",
          "name": "stdout",
          "text": [
            "['τυρί', 'ρύζι', 'γάλα', 'καμπά', 'ιππότης που λέει νι']\n",
            "['τυρί', 'ρύζι', 'γάλα', 'καμπά', 'ιππότης που λέει νι']\n"
          ]
        }
      ]
    },
    {
      "cell_type": "markdown",
      "source": [
        "#####**Πλήθος αντικειμένων σε μια λίστα**\n",
        "\n",
        "len(<όνομα λίστας>)"
      ],
      "metadata": {
        "id": "Ah4SaBYI3IsJ"
      }
    },
    {
      "cell_type": "code",
      "source": [
        "print(len(sm_list))         # τύπωσε το πλήθος των αντικειμένων που έχει η λίστα sm_list\n",
        "print(len(pantofla5))       # τύπωσε το γινόμενο του πλήθους των αντικειμένων που έχει η λίστα pantofla5\n",
        "smL_len = len(sm_list)      # αποθήκευσε το μήκος της λίστας sm_list στη μεταβλητή smL_len\n",
        "print(pantofla5)            # τύπωσε τη λίστα pantofla5\n",
        "print(pantofla5[smL_len-1]) # τύπωσε το αντικείμενο της λίστας pantofla5 που έχει index το μήκος της λίστας sm_list μείον 1"
      ],
      "metadata": {
        "id": "57zS2HRv396u",
        "colab": {
          "base_uri": "https://localhost:8080/"
        },
        "outputId": "4864ad3c-f9a2-4733-ac4d-2711aed9bfc0"
      },
      "execution_count": null,
      "outputs": [
        {
          "output_type": "stream",
          "name": "stdout",
          "text": [
            "5\n",
            "5\n",
            "['έντεχνο', 0.5, 'μπάμιες', 'red', 2020]\n",
            "2020\n"
          ]
        }
      ]
    },
    {
      "cell_type": "markdown",
      "source": [
        "#####**Και τα strings είναι σαν λίστες**"
      ],
      "metadata": {
        "id": "tTZpyBrx9OfA"
      }
    },
    {
      "cell_type": "code",
      "source": [
        "verse = \"always look at the bright side of life\"\n",
        "print(len(verse))\n",
        "print(verse[19:25], verse[-4:])"
      ],
      "metadata": {
        "id": "WLNeiv569Yc_",
        "colab": {
          "base_uri": "https://localhost:8080/"
        },
        "outputId": "5426f8e8-4e8b-48d3-924d-01cef24fcb26"
      },
      "execution_count": null,
      "outputs": [
        {
          "output_type": "stream",
          "name": "stdout",
          "text": [
            "38\n",
            "bright life\n"
          ]
        }
      ]
    },
    {
      "cell_type": "markdown",
      "source": [
        "####**Αν μια λίστα έχει αριθμούς** μπορούμε να χρησιμοποιήσουμε τα functions: **min()**, **max()**, **sum()**"
      ],
      "metadata": {
        "id": "KNDivjGSK9Gs"
      }
    },
    {
      "cell_type": "code",
      "source": [
        "vathmoi = [8, 7, 9, 6, 10, 8, 9, 7, 5]\n",
        "print(min(vathmoi))\n",
        "print(max(vathmoi))\n",
        "print(sum(vathmoi))\n",
        "\n",
        "print(\"μέσος όρος:\", sum(vathmoi)/len(vathmoi))"
      ],
      "metadata": {
        "id": "xY4hVJu2LOEg",
        "colab": {
          "base_uri": "https://localhost:8080/"
        },
        "outputId": "3fb4afff-5fad-42a3-e08c-ab7450623dfc"
      },
      "execution_count": null,
      "outputs": [
        {
          "output_type": "stream",
          "name": "stdout",
          "text": [
            "5\n",
            "10\n",
            "69\n",
            "μέσος όρος: 7.666666666666667\n"
          ]
        }
      ]
    },
    {
      "cell_type": "markdown",
      "source": [
        "####**Στρογγυλοποίηση δεκαδικού αριθμού**: round(<δεκαδικός αριθμός>, <πλήθος δεκαδικών ψηφίων>)\n",
        "\n",
        "Ο ορισμός του πλήθους των δεκαδικών ψηφίων για τη στρογγυλοποίηση, στις παραμέτρους της συνάρτησης round, είναι προαιρετικός."
      ],
      "metadata": {
        "id": "hu3XBaxLmYoF"
      }
    },
    {
      "cell_type": "code",
      "source": [
        "pi = 355/113\n",
        "print(\"pi =\", pi)\n",
        "print(\"approximate pi =\", round(pi, 2))"
      ],
      "metadata": {
        "id": "rNDysPXXm9EM",
        "colab": {
          "base_uri": "https://localhost:8080/"
        },
        "outputId": "74b7f101-3259-4f78-aee6-fd46e173d338"
      },
      "execution_count": null,
      "outputs": [
        {
          "output_type": "stream",
          "name": "stdout",
          "text": [
            "pi = 3.1415929203539825\n",
            "approximate pi = 3.14\n"
          ]
        }
      ]
    },
    {
      "cell_type": "code",
      "source": [
        "print(sum(vathmoi)/len(vathmoi))\n",
        "round(sum(vathmoi)/len(vathmoi)) # στρογγυλοποίηση δεκαδικού χωρίς να ορίσουμε πλήθος δεκαδικών ψηφίων"
      ],
      "metadata": {
        "id": "xKo4TihsmJMh",
        "colab": {
          "base_uri": "https://localhost:8080/"
        },
        "outputId": "a8ff1738-9933-43ac-ec04-775db4d0b9c1"
      },
      "execution_count": null,
      "outputs": [
        {
          "output_type": "stream",
          "name": "stdout",
          "text": [
            "7.666666666666667\n"
          ]
        },
        {
          "output_type": "execute_result",
          "data": {
            "text/plain": [
              "8"
            ]
          },
          "metadata": {},
          "execution_count": 43
        }
      ]
    },
    {
      "cell_type": "markdown",
      "source": [
        "\n",
        "\n",
        "---\n",
        "\n",
        "####**Άσκηση 4**\n",
        "\n",
        "**Try yourself**: Φτιάξτε ένα νέο κελί κώδικα (Code cell) ακριβώς κάτω από αυτό και κάνετε τα παρακάτω:\n",
        "\n",
        "* δημιουργήστε μια μεταβλητή με την πόλη που μένετε και μία με το αγαπημένο σας ταξιδιωτικό προορισμό\n",
        "* ελέγξτε την ομοιότητα του τύπου των μεταβλητών\n",
        "* ελέγξτε την ισότητα των μεταβλητών\n",
        "* ελέγξτε αν η μεταβλητή της πόλης είναι μικρότερη της μεταβλητής του ταξιδιωτικού προορισμού\n",
        "\n",
        "Τι νομίζετε ότι σημαίνει ότι ένα string είναι μεγαλύτερο, μικρότερο ή ίσο με ένα άλλο; (Γράψτε την απάντησή σας σε ένα νέο text cell ή σε ένα code cell σαν σχόλιο)\n"
      ],
      "metadata": {
        "id": "pg9-mk1eTq2l"
      }
    },
    {
      "cell_type": "markdown",
      "source": [
        "\n",
        "\n",
        "---\n",
        "\n",
        "####**Άσκηση 5**\n",
        "\n",
        "**Try yourself**: Φτιάξτε ένα νέο κελί κώδικα (Code cell) ακριβώς κάτω από αυτό και κάνετε τα παρακάτω:\n",
        "\n",
        "* δημιουργήστε μια μεταβλητή με τιμή την datetime ημερομηνία δημοσίευσης ενός άρθρου: 2023-03-24T12:07:19+02:00\n",
        "* απομονώστε την ημερομηνία και αποθηκεύστε τη σε μια μεταβλητή με κατάλληλο όνομα\n",
        "* τυπώστε την ημερομηνία\n",
        "* φτιάξτε ένα νέο code cell\n",
        "* αποθηκεύστε σε διαφορετικές μεταβλητές το έτος, το μήνα και την ημέρα (**tip**: κάντε το ένα ένα και τυπώνετε για να βλέπετε αν το κάνετε σωστά)\n",
        "* φτιάξτε ένα νέο code cell\n",
        "* απομονώστε την ώρα (το 12:07:19) και αποθηκεύστε τη σε μια νέα μεταβλητή\n",
        "* φτιάξτε ένα νέο code cell\n",
        "* χρησιμοποιώντας τις μεταβλητές που φτιάξατε, δημιουργήστε μια νέα μεταβλητή με όνομα custom_daytime που θα περιέχει: <ημέρα>/<μήνας>/<έτος>, ώρα: <ώρα>\n",
        "* και τυπώστε τη στην οθόνη"
      ],
      "metadata": {
        "id": "jIk9BoTu-f05"
      }
    },
    {
      "cell_type": "markdown",
      "source": [
        "\n",
        "\n",
        "---\n",
        "\n"
      ],
      "metadata": {
        "id": "g1qp6-OEBi1j"
      }
    },
    {
      "cell_type": "markdown",
      "source": [
        "####**Μέθοδοι επεξεργασίας λιστών** (build-in lists methods)\n",
        "\n",
        "![image](https://external-content.duckduckgo.com/iu/?u=https%3A%2F%2Fwww.sirquotesalot.com%2Fwp-content%2Fuploads%2F2021%2F10%2Fmonty-python-quotes-machine-that-goes-ping-768x432.jpg&f=1&nofb=1&ipt=b32b1cd4032a63983f14be762cee47b081b0354c1eb2bb8588dbdcd129b1b2f9&ipo=images)"
      ],
      "metadata": {
        "id": "ytHr4DFH82cI"
      }
    },
    {
      "cell_type": "markdown",
      "source": [
        "####**Τι είναι οι συναρτήσεις (functions) και οι μέθοδοι (methods);**\n",
        "\n",
        "**Γενική απάντηση**: είναι τρόποι επεξεργασίας των δεδομένων μας.\n",
        "\n",
        "**Functions** είναι κομμάτια κώδικα που εκτελούν συγκεκριμένες εργασίες. Τα κομμάτια αυτά έχουν ένα όνομα με το οποίο τα φωνάζουμε για να εκτελεστούν. Μπορούμε να φτιάξουμε δικά μας functions, αλλά υπάρχουν πάρα πολλά ήδη ενσωματωμένα (build-in) στην Python.\n",
        "\n",
        "Παραδείγματα functions που έχουμε ήδη χρησιμοποιήσει είναι οι εντολές **print()**, **type()**, **int()**, **float()**, **str()**, **len()**, **min()**, **max()**, **sum()** και **round()**. Τα functions τα χρησιμοποιούμε γράφοντας το όνομά τους και βάζοντας στην παρένθεση τις παραμέτρους που χρειάζεται για να εκτελεστούν. Στα functions που έχουμε χρησιμοποιήσει έχουμε βάλει στην παρένθεση το όνομα του αντικείμένου που θα πάρει το function για να εφαρμόσει την εργασία. Π.χ.:\n",
        "\n",
        "* print(\"Python is fun!\") = πάρε το string στην παρένθεση και τύπωσέ το\n",
        "* len(some_list) = πάρε τη λίστα στην παρένθεση και μέτρα πόσα αντικείμενα έχει μέσα\n",
        "* int(some_float) = πάρε τον δεκαδικό στην παρένθεση και κάνε τον ακέραιο\n",
        "\n",
        "**Methods** είναι επίσης κομμάτια κομμάτια κώδικα που εκτελούν συγκεκριμένες εργασίες. Έχουν επίσης ένα όνομα και παραμέτρους, αλλά επειδή σχετίζονται με συγκεκριμένα αντικείμενα ή classes, η σύνταξη για να τις καλέσουμε είναι:\n",
        "\n",
        "<όνομα αντικειμένου>**.**<όνομα μεθόδου>(<παράμετροι>)\n",
        "\n",
        "Δηλαδή: στο τάδε αντικείμενο θα εφαρμόσεις την τάδε μέθοδο με τις παραμέτρους στην παρένθεση.\n",
        "\n",
        "Εδώ θα δούμε μερικές από τις build-in μεθόδους για λίστες στην Python. Καθώς θα εξοικειώνεστε μπορείτε να δείτε και τις υπόλοιπες."
      ],
      "metadata": {
        "id": "5chjGTDZIx-1"
      }
    },
    {
      "cell_type": "markdown",
      "source": [
        "![image](https://external-content.duckduckgo.com/iu/?u=https%3A%2F%2Fres.cloudinary.com%2Fdyd911kmh%2Fimage%2Fupload%2Ff_auto%2Cq_auto%3Abest%2Fv1592084676%2Flist3_ldpeim.png&f=1&nofb=1&ipt=b6c8d71f929df0afec47e5b0fb3c69715d059b4bbfbb45024e1fc39189768977&ipo=images)"
      ],
      "metadata": {
        "id": "uwfjO9g4H1uI"
      }
    },
    {
      "cell_type": "markdown",
      "source": [
        "####**append()** και **remove()**\n",
        "\n",
        "* **append()**: Προσθέτει ένα αντικείμενο στο τέλος της λίστας.\n",
        "<όνομα λίστας>.append(<όνομα  αντικειμένου>)\n",
        "\n",
        "* **remove()**: Αφαιρεί ένα αντικείμενο από τη λίστα.\n",
        "<όνομα λίστας>.append(<όνομα  αντικειμένου>)\n",
        "\n",
        "**!!!** Tο append() και το remove() **εφαρμόζουν** τις αλλαγές κατευθείαν στη λίστα. Δεν χρειάζεται δηλαδή να ξαναορίσουμε τις μεταβλητές."
      ],
      "metadata": {
        "id": "LgM5klGeO8z5"
      }
    },
    {
      "cell_type": "markdown",
      "source": [
        "#####**append()**"
      ],
      "metadata": {
        "id": "H0ba6LL8BCVw"
      }
    },
    {
      "cell_type": "code",
      "source": [
        "sm_list"
      ],
      "metadata": {
        "id": "YD5Zx2vPG00K",
        "colab": {
          "base_uri": "https://localhost:8080/"
        },
        "outputId": "5cdfc96e-1a44-4d49-bed8-3e698aa1a5cb"
      },
      "execution_count": null,
      "outputs": [
        {
          "output_type": "execute_result",
          "data": {
            "text/plain": [
              "['τυρί', 'ρύζι', 'γάλα', 'καμπά', 'ιππότης που λέει νι']"
            ]
          },
          "metadata": {},
          "execution_count": 44
        }
      ]
    },
    {
      "cell_type": "code",
      "source": [
        "sm_list.append(\"G7\") # πρόσθεσε στη λίστα sm_list το αντικείμενο \"G7\"\n",
        "sm_list"
      ],
      "metadata": {
        "id": "K0xoDTwZHPqm",
        "colab": {
          "base_uri": "https://localhost:8080/"
        },
        "outputId": "b9490266-0b80-4798-b3d8-68f1443c53ba"
      },
      "execution_count": null,
      "outputs": [
        {
          "output_type": "execute_result",
          "data": {
            "text/plain": [
              "['τυρί', 'ρύζι', 'γάλα', 'καμπά', 'ιππότης που λέει νι', 'G7']"
            ]
          },
          "metadata": {},
          "execution_count": 45
        }
      ]
    },
    {
      "cell_type": "markdown",
      "source": [
        "#####**remove()**"
      ],
      "metadata": {
        "id": "U9tB8jX4BJn0"
      }
    },
    {
      "cell_type": "code",
      "source": [
        "sm_list.remove(\"G7\")\n",
        "sm_list"
      ],
      "metadata": {
        "id": "v3jG_KUXHitP",
        "colab": {
          "base_uri": "https://localhost:8080/"
        },
        "outputId": "6bffad57-7025-482e-c8ec-5bae8b0b183d"
      },
      "execution_count": null,
      "outputs": [
        {
          "output_type": "execute_result",
          "data": {
            "text/plain": [
              "['τυρί', 'ρύζι', 'γάλα', 'καμπά', 'ιππότης που λέει νι']"
            ]
          },
          "metadata": {},
          "execution_count": 46
        }
      ]
    },
    {
      "cell_type": "markdown",
      "source": [
        "####**count()**\n",
        "\n",
        "Μέσα σε μια λίστα μπορεί να είναι αρκετές φορές το ίδιο αντικείμενο. To count() μας λέει πόσες φορές.\n",
        "\n",
        "<όνομα λίστας>.count(<όνομα αντικειμένου>)"
      ],
      "metadata": {
        "id": "fjyjlAMhPmBB"
      }
    },
    {
      "cell_type": "code",
      "source": [
        "chess_wL = [\"πιόνι\", \"πιόνι\", \"πιόνι\", \"πιόνι\",\n",
        "          \"αξιωματικός\", \"πύργος\", \"βασίλισσα\",\n",
        "          \"πιόνι\", \"πιόνι\", \"βασιλιάς\", \"άλογο\",\n",
        "          \"άλογο\", \"πύργος\"\n",
        "          ]\n",
        "chess_wL.count(\"πιόνι\")"
      ],
      "metadata": {
        "id": "SyKtUsR8QExo",
        "colab": {
          "base_uri": "https://localhost:8080/"
        },
        "outputId": "a4892c64-dbef-409d-8963-4bea4915c6de"
      },
      "execution_count": null,
      "outputs": [
        {
          "output_type": "execute_result",
          "data": {
            "text/plain": [
              "6"
            ]
          },
          "metadata": {},
          "execution_count": 47
        }
      ]
    },
    {
      "cell_type": "markdown",
      "source": [
        "####**extend()**\n",
        "\n",
        "Προσθέτει τα αντικείμενα μιας λίστας στο τέλος μιας άλλης.\n",
        "\n",
        "<όνομα λίστας που θα επεκταθεί>.extend(<όνομα λίστας της οποίας τα αντικείμενα θα προστεθούν στη λίστα που θα επεκταθεί>)\n",
        "\n",
        "Και το extend() **εφαρμόζει** την αλλαγή στη λίστα."
      ],
      "metadata": {
        "id": "DaGQp4ZTSwgg"
      }
    },
    {
      "cell_type": "code",
      "source": [
        "print(sm_list)\n",
        "print(chess_wL)"
      ],
      "metadata": {
        "id": "tWGSQI7NS3x9",
        "colab": {
          "base_uri": "https://localhost:8080/"
        },
        "outputId": "3e9a80bd-6eae-4258-8085-76b14f982b7f"
      },
      "execution_count": null,
      "outputs": [
        {
          "output_type": "stream",
          "name": "stdout",
          "text": [
            "['τυρί', 'ρύζι', 'γάλα', 'καμπά', 'ιππότης που λέει νι']\n",
            "['πιόνι', 'πιόνι', 'πιόνι', 'πιόνι', 'αξιωματικός', 'πύργος', 'βασίλισσα', 'πιόνι', 'πιόνι', 'βασιλιάς', 'άλογο', 'άλογο', 'πύργος']\n"
          ]
        }
      ]
    },
    {
      "cell_type": "code",
      "source": [
        "sm_list.extend(chess_wL)"
      ],
      "metadata": {
        "id": "FLc4plBiS-X4"
      },
      "execution_count": null,
      "outputs": []
    },
    {
      "cell_type": "code",
      "source": [
        "sm_list"
      ],
      "metadata": {
        "id": "KxfABeGwT-fC",
        "colab": {
          "base_uri": "https://localhost:8080/"
        },
        "outputId": "1bab9183-28cc-4416-e9ff-cd60a8563016"
      },
      "execution_count": null,
      "outputs": [
        {
          "output_type": "execute_result",
          "data": {
            "text/plain": [
              "['τυρί',\n",
              " 'ρύζι',\n",
              " 'γάλα',\n",
              " 'καμπά',\n",
              " 'ιππότης που λέει νι',\n",
              " 'πιόνι',\n",
              " 'πιόνι',\n",
              " 'πιόνι',\n",
              " 'πιόνι',\n",
              " 'αξιωματικός',\n",
              " 'πύργος',\n",
              " 'βασίλισσα',\n",
              " 'πιόνι',\n",
              " 'πιόνι',\n",
              " 'βασιλιάς',\n",
              " 'άλογο',\n",
              " 'άλογο',\n",
              " 'πύργος']"
            ]
          },
          "metadata": {},
          "execution_count": 50
        }
      ]
    },
    {
      "cell_type": "markdown",
      "source": [
        "####**index()**\n",
        "\n",
        "Επιστρέφει το index του πρώτου αντικειμένου που έχει το όνομα που ζητάμε.\n",
        "\n",
        "<όνομα λίστας που είναι το αντικείμενο>.index(<όνομα αντικειμένου>)\n"
      ],
      "metadata": {
        "id": "llBgianZT3rx"
      }
    },
    {
      "cell_type": "code",
      "source": [
        "sm_list.index(\"πιόνι\")"
      ],
      "metadata": {
        "id": "yxrbB_YgXBR9",
        "colab": {
          "base_uri": "https://localhost:8080/"
        },
        "outputId": "8ce10268-179c-4c69-c75f-ae384026d8e9"
      },
      "execution_count": null,
      "outputs": [
        {
          "output_type": "execute_result",
          "data": {
            "text/plain": [
              "5"
            ]
          },
          "metadata": {},
          "execution_count": 51
        }
      ]
    },
    {
      "cell_type": "markdown",
      "source": [
        "####**sort()** και **reverse()**\n",
        "\n",
        "* **sort()**: Ταξινομεί τα αντικείμενα της λίστας με αύξουσα σειρά. <όνομα λίστας>.sort()\n",
        "\n",
        "* **reverse()**: Ταξινομεί τα αντικείμενα της λίστας με φθίνουσα σειρά. <όνομα λίστας>.reverse()\n",
        "\n",
        "Και τα sort() και reverse() **εφαρμόζουν** κατευθείαν την αλλαγή στη λίστα."
      ],
      "metadata": {
        "id": "iRO0xx0AXayB"
      }
    },
    {
      "cell_type": "code",
      "source": [
        "sm_list.sort()\n",
        "sm_list"
      ],
      "metadata": {
        "id": "Nzt8Exc9dIlr",
        "colab": {
          "base_uri": "https://localhost:8080/"
        },
        "outputId": "b3712335-d414-4a9b-b8d0-87ddacdd5551"
      },
      "execution_count": null,
      "outputs": [
        {
          "output_type": "execute_result",
          "data": {
            "text/plain": [
              "['γάλα', 'ιππότης που λέει νι', 'καμπά', 'ρύζι', 'τυρί']"
            ]
          },
          "metadata": {},
          "execution_count": 3
        }
      ]
    },
    {
      "cell_type": "code",
      "source": [
        "sm_list.reverse()\n",
        "sm_list"
      ],
      "metadata": {
        "id": "rvRnfATxd3kF",
        "colab": {
          "base_uri": "https://localhost:8080/"
        },
        "outputId": "c91ca29d-673f-43bc-8925-7d32b7e8265d"
      },
      "execution_count": null,
      "outputs": [
        {
          "output_type": "execute_result",
          "data": {
            "text/plain": [
              "['τυρί',\n",
              " 'ρύζι',\n",
              " 'πύργος',\n",
              " 'πύργος',\n",
              " 'πιόνι',\n",
              " 'πιόνι',\n",
              " 'πιόνι',\n",
              " 'πιόνι',\n",
              " 'πιόνι',\n",
              " 'πιόνι',\n",
              " 'καμπά',\n",
              " 'ιππότης που λέει νι',\n",
              " 'γάλα',\n",
              " 'βασιλιάς',\n",
              " 'βασίλισσα',\n",
              " 'αξιωματικός',\n",
              " 'άλογο',\n",
              " 'άλογο']"
            ]
          },
          "metadata": {},
          "execution_count": 53
        }
      ]
    },
    {
      "cell_type": "markdown",
      "source": [
        "\n",
        "\n",
        "---\n",
        "\n",
        "####**Άσκηση 6**\n",
        "\n",
        "**Try yourself**: Φτιάξτε ένα νέο κελί κώδικα (Code cell) ακριβώς κάτω από αυτό και κάνετε τα παρακάτω:\n",
        "\n",
        "1. Δημιουργήστε μια κενή λίστα με όνομα usersL\n",
        "2. Φτιάξτε μια μεταβλητή με όνομα email1 και τιμή ένα email\n",
        "3. Βρείτε το index του \"@\" (με function) και αποθηκεύστε το σε μια μεταβλητή με όνομα at1\n",
        "4. Πάρτε (slice) το τμήμα του mail που έχει μόνο το όνομα, αποθηκεύστε το σε μια μεταβλητή με όνομα user1 και βάλτε το στη λίστα usersL\n",
        "5. Επαναλάβετε τα βήματα 2-4 άλλη 1 φορά (κάντε copy-paste και αλλάξτε ό,τι χρειάεται)\n",
        "6. Ταξινομήστε τα περιεχόμενα της λίστας με αύξουσα σειρά και\n",
        "7. Τυπώστε τα περιεχόμενά της στην οθόνη\n",
        "\n",
        "**Tip**: χρησιμοποιήστε όσα κελιά θέλετε έτσι ώστε να ελέγχετε τι κάνετε σε κάθε βήμα"
      ],
      "metadata": {
        "id": "S1gEam_lIW9J"
      }
    },
    {
      "cell_type": "markdown",
      "source": [
        "\n",
        "\n",
        "---\n",
        "\n"
      ],
      "metadata": {
        "id": "MU8tNnN-ihjd"
      }
    },
    {
      "cell_type": "markdown",
      "source": [
        "####**2 χρήσιμες μέθοδοι για strings**\n",
        "\n",
        "* **replace()**: αντικατάσταση χαρακτήρων ενός string με άλλους\n",
        "\n",
        "<όνομα string>.replace(\"<προς αντικατάσταση>\", \"<αντικαταστάτης>\")\n",
        "\n",
        "* **upper()**, **lower()**, **title()**, **swapcase()**: μετατρέπουν τους χαρακτήρες σε όλα κεφαλαία, όλα πεζά, όλα πεζά με κεφαλαίο το πρώτο γράμμα κάθε λέξης και αντίστροφα απ' ότι είναι (τα πεζά γίνονται κεφαλαία και τα κεφαλαία πεζά)\n",
        "\n",
        "**!!!**: οι παραπάνω μέθοδοι **δεν εφαρμόζουν** την αλλαγή. Πρέπει να (ξανα)ορίσουμε τη μεταβλητή για να αποθηκευτεί η αλλαγή."
      ],
      "metadata": {
        "id": "L7fLCGxFimwi"
      }
    },
    {
      "cell_type": "markdown",
      "source": [
        "#####**replace()**"
      ],
      "metadata": {
        "id": "XcqYdsynxIMX"
      }
    },
    {
      "cell_type": "code",
      "source": [
        "email = \"someperson@example.com\"\n",
        "email.replace('@', '-')\n",
        "print(\"χωρίς ορισμό μεταβλητής:\", email)\n",
        "not_email = email.replace(\"@\", \"-\")\n",
        "print(\"νέα μεταβλητή:\", not_email)"
      ],
      "metadata": {
        "id": "IYg2FJzojjnz",
        "colab": {
          "base_uri": "https://localhost:8080/"
        },
        "outputId": "8886930f-92f4-414e-9f70-5d2e853e43c8"
      },
      "execution_count": null,
      "outputs": [
        {
          "output_type": "stream",
          "name": "stdout",
          "text": [
            "χωρίς ορισμό μεταβλητής: someperson@example.com\n",
            "νέα μεταβλητή: someperson-example.com\n"
          ]
        }
      ]
    },
    {
      "cell_type": "code",
      "source": [
        "not_email.replace(\"meper\", \"so\").replace(\"n\", \"\") # μπορούμε να αντικαταστήσουμε και τμήμα ενός string και μπορούμε να κάνουμε διαδοχικά replace"
      ],
      "metadata": {
        "id": "w51i7QOxlztr",
        "colab": {
          "base_uri": "https://localhost:8080/",
          "height": 35
        },
        "outputId": "ff6fbc9a-423f-4106-a43f-f53fda4468aa"
      },
      "execution_count": null,
      "outputs": [
        {
          "output_type": "execute_result",
          "data": {
            "text/plain": [
              "'sososo-example.com'"
            ],
            "application/vnd.google.colaboratory.intrinsic+json": {
              "type": "string"
            }
          },
          "metadata": {},
          "execution_count": 55
        }
      ]
    },
    {
      "cell_type": "markdown",
      "source": [
        "Η replace() δέχεται προαιρετικά και μια τρίτη παράμετρο (count), η οποία ορίζει το πόσες φορές θα αντικατασταθεί ο επιθυμητός χαρακτήρας εάν υπάρχει πάνω από μια φορά. Αν παραλείψουμε την παράμετρο του count αντικαθίστανται όλες οι εμφανίσεις του επιλεγμένου προς αντικατάσταση χαρακτήρα."
      ],
      "metadata": {
        "id": "qk3N6Z9hnHfR"
      }
    },
    {
      "cell_type": "code",
      "source": [
        "not_email.replace(\"o\", \"e\", 1)  # πατήστε σε αυτό το cell και αφήστε για λίγο το ποντίκι πάνω από τη λέξη replace"
      ],
      "metadata": {
        "id": "-mFsuwgImjhQ",
        "colab": {
          "base_uri": "https://localhost:8080/",
          "height": 35
        },
        "outputId": "8645d887-f2e4-4b1a-b6cc-81ffcab0466f"
      },
      "execution_count": null,
      "outputs": [
        {
          "output_type": "execute_result",
          "data": {
            "text/plain": [
              "'semeperson-example.com'"
            ],
            "application/vnd.google.colaboratory.intrinsic+json": {
              "type": "string"
            }
          },
          "metadata": {},
          "execution_count": 56
        }
      ]
    },
    {
      "cell_type": "markdown",
      "source": [
        "#####**upper()**, **lower()**, **title()**, **swapcase()**"
      ],
      "metadata": {
        "id": "7jkmGaGyxCed"
      }
    },
    {
      "cell_type": "code",
      "source": [
        "not_email.upper()"
      ],
      "metadata": {
        "id": "AOrZw925xFIW",
        "colab": {
          "base_uri": "https://localhost:8080/",
          "height": 35
        },
        "outputId": "e30e9914-25bf-4c56-d78b-419a2d9654b8"
      },
      "execution_count": null,
      "outputs": [
        {
          "output_type": "execute_result",
          "data": {
            "text/plain": [
              "'SOMEPERSON-EXAMPLE.COM'"
            ],
            "application/vnd.google.colaboratory.intrinsic+json": {
              "type": "string"
            }
          },
          "metadata": {},
          "execution_count": 57
        }
      ]
    },
    {
      "cell_type": "code",
      "source": [
        "not_email.lower()"
      ],
      "metadata": {
        "id": "LAdYUeMZxiqS",
        "colab": {
          "base_uri": "https://localhost:8080/",
          "height": 35
        },
        "outputId": "d45c35e2-106c-450b-8b1e-7e938398daf0"
      },
      "execution_count": null,
      "outputs": [
        {
          "output_type": "execute_result",
          "data": {
            "text/plain": [
              "'someperson-example.com'"
            ],
            "application/vnd.google.colaboratory.intrinsic+json": {
              "type": "string"
            }
          },
          "metadata": {},
          "execution_count": 58
        }
      ]
    },
    {
      "cell_type": "code",
      "source": [
        "not_email.title()"
      ],
      "metadata": {
        "id": "NiKtTUYCvwJg",
        "colab": {
          "base_uri": "https://localhost:8080/",
          "height": 35
        },
        "outputId": "3091f83a-4773-4c25-f770-4bd7818b3f30"
      },
      "execution_count": null,
      "outputs": [
        {
          "output_type": "execute_result",
          "data": {
            "text/plain": [
              "'Someperson-Example.Com'"
            ],
            "application/vnd.google.colaboratory.intrinsic+json": {
              "type": "string"
            }
          },
          "metadata": {},
          "execution_count": 59
        }
      ]
    },
    {
      "cell_type": "code",
      "source": [
        "not_email.title().swapcase() # πάρε τη μεταβλητή not_emai, κάντη title και μετά swapcase"
      ],
      "metadata": {
        "id": "LE80slSqJXTx",
        "colab": {
          "base_uri": "https://localhost:8080/",
          "height": 35
        },
        "outputId": "6909d380-5a1a-4c48-e8b9-bb34e91c64d8"
      },
      "execution_count": null,
      "outputs": [
        {
          "output_type": "execute_result",
          "data": {
            "text/plain": [
              "'sOMEPERSON-eXAMPLE.cOM'"
            ],
            "application/vnd.google.colaboratory.intrinsic+json": {
              "type": "string"
            }
          },
          "metadata": {},
          "execution_count": 60
        }
      ]
    },
    {
      "cell_type": "markdown",
      "source": [
        "\n",
        "\n",
        "---\n",
        "\n"
      ],
      "metadata": {
        "id": "hXnOSe9iKxFq"
      }
    },
    {
      "cell_type": "markdown",
      "source": [
        "###**Dictionaries**  (λεξικά)\n",
        "\n",
        "είναι **ομάδες ζευγών** μεταβλητών. Μια μεταβλητή που ονομάζεται **key** συνδέεται με μια άλλη μεταβλητή που λέγεται **value**.\n",
        "\n",
        "* Tα ζεύγη key:value, διαχωρίζονται μεταξύ τους με κόμμα και μπαίνουν μέσα σε **curly brackets {}**\n",
        "* Κάθε ζεύγος key:value, λέγεται **item**\n",
        "\n",
        "* **Τα keys** μπορούν να είναι μόνο μη μεταλλάξιμου τύπου, δηλαδή συνήθως integers και strings και άρα **ΔΕΝ μπορούν να είναι lists**\n",
        "* Κάθε key είναι **μοναδικό** και μπορεί να έχει μόνο ένα value\n",
        "* Tα values μπορούν να είναι οποιουδήποτε τύπου δεδομένα"
      ],
      "metadata": {
        "id": "rWWdDu3JrN-i"
      }
    },
    {
      "cell_type": "code",
      "source": [
        "# Δημιουργία Dictionary\n",
        "student1_dict = {\"Όνομα\":\"Δημήτρης\",\n",
        "                 \"Επώνυμο\":\"Δημητρίου\",\n",
        "                 \"email\":\"ddimitriou@gmail.com\",\n",
        "                 \"Εξάμηνο\":6,\n",
        "                 \"Python_fan\":True,\n",
        "                 0:pantofla5  # το pantofla5 είναι λίστα\n",
        "                 }\n",
        "type(student1_dict)"
      ],
      "metadata": {
        "id": "C1ikjrbnugPD",
        "colab": {
          "base_uri": "https://localhost:8080/"
        },
        "outputId": "f83727ab-22fb-4a57-c345-552272082897"
      },
      "execution_count": null,
      "outputs": [
        {
          "output_type": "execute_result",
          "data": {
            "text/plain": [
              "dict"
            ]
          },
          "metadata": {},
          "execution_count": 61
        }
      ]
    },
    {
      "cell_type": "markdown",
      "source": [
        "####**Κλήση αντικειμένων ενός dictionary**\n",
        "\n",
        "![image](https://external-content.duckduckgo.com/iu/?u=https%3A%2F%2Fd1zx6djv3kb1v7.cloudfront.net%2Fwp-content%2Fmedia%2F2020%2F05%2FAppend-a-Dictionary-to-a-list-in-Python-5-i2tutorials.jpg&f=1&nofb=1&ipt=04a7a77a71bc3b60c5f1f714a5e162417179286e01cdb6497c7c6f1bbe01b1fd&ipo=images)\n",
        "\n",
        "Σε αντίθεση με τις λίστες (που είναι ordered sequences, δηλαδή αριθμημένες αλληλουχίες), στα λεξικά (που είναι unordered sequences, δηλαδή τα αντικείμενα δεν είναι αριθμημένα - σκεφτείτε τα σαν bullets), τα αντικείμενα δεν μπορούμε να τα καλέσουμε με τον αριθμό της θέσης τους.\n",
        "\n",
        "Καθώς όμως υπάρχει σύνδεση ανάμεσα σε ένα key και σην τιμή του, μπορούμε να καλέσουμε το όνομα του key και η Python θα μας επιστρέψει την τιμή του. O τρόπος κλήσης είναι με square brackets, όπως στις λίστες, αλλά αντί για αριθμό index, βάζουμε το key."
      ],
      "metadata": {
        "id": "G3_XIVIrKpzu"
      }
    },
    {
      "cell_type": "code",
      "source": [
        "student1_dict[\"Όνομα\"]"
      ],
      "metadata": {
        "id": "ZDmhWutRMn_N",
        "colab": {
          "base_uri": "https://localhost:8080/",
          "height": 35
        },
        "outputId": "7c7421f9-daf3-4eeb-f7e2-62181773be7d"
      },
      "execution_count": null,
      "outputs": [
        {
          "output_type": "execute_result",
          "data": {
            "text/plain": [
              "'Δημήτρης'"
            ],
            "application/vnd.google.colaboratory.intrinsic+json": {
              "type": "string"
            }
          },
          "metadata": {},
          "execution_count": 62
        }
      ]
    },
    {
      "cell_type": "markdown",
      "source": [
        "Καλώντας με αυτό τον τρόπο ένα αντικείμενο μπορούμε να αλλάξουμε την τιμή του."
      ],
      "metadata": {
        "id": "3LPzX7THpTso"
      }
    },
    {
      "cell_type": "code",
      "source": [
        "student1_dict[\"Όνομα\"] = \"Μίμης\"\n",
        "student1_dict"
      ],
      "metadata": {
        "id": "fp8fUTJ6ph1N",
        "colab": {
          "base_uri": "https://localhost:8080/"
        },
        "outputId": "b402f8d1-df1b-44ea-ecb5-1e1ee77e1841"
      },
      "execution_count": null,
      "outputs": [
        {
          "output_type": "execute_result",
          "data": {
            "text/plain": [
              "{'Όνομα': 'Μίμης',\n",
              " 'Επώνυμο': 'Δημητρίου',\n",
              " 'email': 'ddimitriou@gmail.com',\n",
              " 'Εξάμηνο': 6,\n",
              " 'Python_fan': True,\n",
              " 0: ['έντεχνο', 0.5, 'μπάμιες', 'red', 2020]}"
            ]
          },
          "metadata": {},
          "execution_count": 63
        }
      ]
    },
    {
      "cell_type": "markdown",
      "source": [
        "**Ερώτηση**: Τι νομίζετε ότι κάνει η παρακάτω γραμμή κώδικα;"
      ],
      "metadata": {
        "id": "m07DhbvctAaA"
      }
    },
    {
      "cell_type": "code",
      "source": [
        "student1_dict[\"Επώνυμο\"] = student1_dict[\"Επώνυμο\"].replace(\"Δη\", \"Μι\")"
      ],
      "metadata": {
        "id": "FTVEfy1Ds031"
      },
      "execution_count": null,
      "outputs": []
    },
    {
      "cell_type": "code",
      "source": [
        "student1_dict"
      ],
      "metadata": {
        "id": "SOaQ1nEWs87a",
        "colab": {
          "base_uri": "https://localhost:8080/"
        },
        "outputId": "ca947bf1-2236-4317-8d17-4a509a770f28"
      },
      "execution_count": null,
      "outputs": [
        {
          "output_type": "execute_result",
          "data": {
            "text/plain": [
              "{'Όνομα': 'Μίμης',\n",
              " 'Επώνυμο': 'Μιμητρίου',\n",
              " 'email': 'ddimitriou@gmail.com',\n",
              " 'Εξάμηνο': 6,\n",
              " 'Python_fan': True,\n",
              " 0: ['έντεχνο', 0.5, 'μπάμιες', 'red', 2020]}"
            ]
          },
          "metadata": {},
          "execution_count": 65
        }
      ]
    },
    {
      "cell_type": "markdown",
      "source": [
        "####**Προσθήκη αντικειμένων στο λεξικό**\n",
        "\n",
        "Για να προσθέσουμε μια εγγραφή (ένα αντικείμενο) μέσα σε ένα λεξικό, ακολουθούμε τη σύνταξη:\n",
        "\n",
        "<όνομα dictionary>[key] = <τιμή>"
      ],
      "metadata": {
        "id": "51PG_ZYdPUib"
      }
    },
    {
      "cell_type": "code",
      "source": [
        "student1_dict['AM'] = '29832017000001'\n",
        "student1_dict"
      ],
      "metadata": {
        "id": "_5ltxheoQRaR",
        "colab": {
          "base_uri": "https://localhost:8080/"
        },
        "outputId": "48a3da7e-90fa-48ce-e531-dc1d22c1da0d"
      },
      "execution_count": null,
      "outputs": [
        {
          "output_type": "execute_result",
          "data": {
            "text/plain": [
              "{'Όνομα': 'Μίμης',\n",
              " 'Επώνυμο': 'Μιμητρίου',\n",
              " 'email': 'ddimitriou@gmail.com',\n",
              " 'Εξάμηνο': 6,\n",
              " 'Python_fan': True,\n",
              " 0: ['έντεχνο', 0.5, 'μπάμιες', 'red', 2020],\n",
              " 'AM': '29832017000001'}"
            ]
          },
          "metadata": {},
          "execution_count": 66
        }
      ]
    },
    {
      "cell_type": "markdown",
      "source": [
        "#####**Υπενθύμιση**\n",
        "\n",
        "Είπαμε παραπάνω, ότι μια λίστα μπορεί να περιέχει όλους τους τύπους δεδομένων. Αυτό σημαίνει ότι μπορούμε να έχουμε μια λίστα φοιτητολογίου που μέσα θα έχει λεξικά που το καθένα από αυτά θα έχει τα στοιχεία κάθε φοιτητή."
      ],
      "metadata": {
        "id": "hq3-w5C_-wFG"
      }
    },
    {
      "cell_type": "markdown",
      "source": [
        "Με τον παρακάτω κώδικα, φτιάχνουμε μια κενή λίστα, φτιάχνουμε λεξικά για 2 φοιτητές και προσθέτουμε το κάθε λεξικό στη λίστα."
      ],
      "metadata": {
        "id": "9-MG8KxlEn8F"
      }
    },
    {
      "cell_type": "code",
      "source": [
        "foititologio = []\n",
        "\n",
        "student1 = {\"Όνομα\" : \"Κώστας\",\n",
        "            \"Επώνυμο\" : \"Κωνσταντίνου\",\n",
        "            \"ΑΜ\" : \"2983202000001\",\n",
        "            \"Εξάμηνο\" : 8,\n",
        "            \"Βαθμός\" : 8\n",
        "            }\n",
        "\n",
        "foititologio.append(student1)\n",
        "\n",
        "student2 = {\"Όνομα\" : \"Άρτεμις\",\n",
        "            \"Επώνυμο\" : \"Μάτσα\",\n",
        "            \"ΑΜ\" : \"2983201700011\",\n",
        "            \"Εξάμηνο\" : 6,\n",
        "            \"Βαθμός\" : 9\n",
        "            }\n",
        "\n",
        "foititologio.append(student2)\n",
        "\n",
        "foititologio"
      ],
      "metadata": {
        "id": "Bqf3i6SW_gXb",
        "colab": {
          "base_uri": "https://localhost:8080/"
        },
        "outputId": "8241e6ba-0520-463e-96c2-d9ad00ad00dc"
      },
      "execution_count": null,
      "outputs": [
        {
          "output_type": "execute_result",
          "data": {
            "text/plain": [
              "[{'Όνομα': 'Κώστας',\n",
              "  'Επώνυμο': 'Κωνσταντίνου',\n",
              "  'ΑΜ': '2983202000001',\n",
              "  'Εξάμηνο': 8,\n",
              "  'Βαθμός': 8},\n",
              " {'Όνομα': 'Άρτεμις',\n",
              "  'Επώνυμο': 'Μάτσα',\n",
              "  'ΑΜ': '2983201700011',\n",
              "  'Εξάμηνο': 6,\n",
              "  'Βαθμός': 9}]"
            ]
          },
          "metadata": {},
          "execution_count": 70
        }
      ]
    },
    {
      "cell_type": "markdown",
      "source": [
        "Μπορούμε να καλέσουμε το λεξικό που θέλουμε από τη λίστα με τον αριθμό index και μετά να καλέσουμε από αυτό ένα key για να δούμε την τιμή του."
      ],
      "metadata": {
        "id": "POStKxeSEs54"
      }
    },
    {
      "cell_type": "code",
      "source": [
        "foititologio[0][\"Όνομα\"] # το foititologio[0] επιστρέφει το πρώτο αντικείμενο της λίστας foititologio που είναι dictionary και το [\"Όνομα\"] καλεί την τιμή του κλειδιού \"Όνομα\""
      ],
      "metadata": {
        "id": "nUc8IjjlBvBK",
        "colab": {
          "base_uri": "https://localhost:8080/",
          "height": 35
        },
        "outputId": "6af41a68-73b9-4438-f1ed-d985c840235a"
      },
      "execution_count": null,
      "outputs": [
        {
          "output_type": "execute_result",
          "data": {
            "text/plain": [
              "'Κώστας'"
            ],
            "application/vnd.google.colaboratory.intrinsic+json": {
              "type": "string"
            }
          },
          "metadata": {},
          "execution_count": 68
        }
      ]
    },
    {
      "cell_type": "markdown",
      "source": [
        "Έτσι, μπορούμε να αλλάξουμε την τιμή ενός κλειδιού ενός λεξικού που είναι σε μια λίστα"
      ],
      "metadata": {
        "id": "W1ZkTNYWtccU"
      }
    },
    {
      "cell_type": "code",
      "source": [
        "foititologio[0][\"Όνομα\"] = 'Νίκος'\n",
        "foititologio"
      ],
      "metadata": {
        "id": "NYVFvFVOGMjm",
        "colab": {
          "base_uri": "https://localhost:8080/"
        },
        "outputId": "781761f7-8dd3-4a4b-99a1-fe9b7d3e32b1"
      },
      "execution_count": null,
      "outputs": [
        {
          "output_type": "execute_result",
          "data": {
            "text/plain": [
              "[{'Όνομα': 'Νίκος',\n",
              "  'Επώνυμο': 'Κωνσταντίνου',\n",
              "  'ΑΜ': '2983202000001',\n",
              "  'Εξάμηνο': 8,\n",
              "  'Βαθμός': 8},\n",
              " {'Όνομα': 'Άρτεμις',\n",
              "  'Επώνυμο': 'Μάτσα',\n",
              "  'ΑΜ': '2983201700011',\n",
              "  'Εξάμηνο': 6,\n",
              "  'Βαθμός': 9}]"
            ]
          },
          "metadata": {},
          "execution_count": 69
        }
      ]
    },
    {
      "cell_type": "markdown",
      "source": [
        "\n",
        "\n",
        "---\n",
        "\n",
        "####**Άσκηση 7**\n",
        "\n",
        "**Try yourself**: Σ' αυτή την άσκηση θα φτιάξουμε μια λίστα στην οποία θα αποθηκεύουμε δίάφορα δεδομένα από άρθρα που δημοσιεύονται σε sites.\n",
        "\n",
        "Φτιάξτε ένα νέο κελί κώδικα (Code cell) ακριβώς κάτω από αυτό και κάνετε τα παρακάτω:\n",
        "\n",
        "1. Δημιουργήστε μια κενή λίστα όπου θα αποθηκεύετε τα δεδομένα των άρθρων\n",
        "2. Δημιουργήστε ένα λεξικό με τα στοιχεία του πρώτου άρθρου που θα συλλέξετε από ένα site: \"Τίτλος\", \"Ημερομηνία\", \"Κατηγορία\", \"url\"\n",
        "3. Επαναλάβετε το 2 για ακόμα ένα άρθρο\n",
        "4. Προσθέστε τα λεξικά στη λίστα.\n",
        "5. Τυπώστε στην οθόνη τον τίτλο του 2ου άρθρου\n",
        "6. Προσθέστε και στα 2 άρθρα μια εγγραφή με το όνομα του αντίστοιχου site που πήρατε το άρθρο\n",
        "7. Τυπώστε στην οθόνη το πλήθος των λεξικών που έχει η λίστα.\n",
        "\n",
        "**Tip**:Δουλέψτε τμηματικά και ελέγχετε σε κάθε βήμα αυτό που κάνετε."
      ],
      "metadata": {
        "id": "j6OayggPIdWA"
      }
    },
    {
      "cell_type": "markdown",
      "source": [
        "\n",
        "\n",
        "---\n",
        "\n"
      ],
      "metadata": {
        "id": "E4Lpa5jVGYOS"
      }
    },
    {
      "cell_type": "markdown",
      "source": [
        "# **Ανασκόπηση**\n",
        "\n",
        "![image](https://external-content.duckduckgo.com/iu/?u=https%3A%2F%2Fmedia4.giphy.com%2Fmedia%2FALBfFB6gP1evu%2F200_s.gif&f=1&nofb=1&ipt=c849799ff73dfb6a3b467efcec452e2831987382a03f875bf789bb9860d5b536&ipo=images)"
      ],
      "metadata": {
        "id": "nnGQwbwzrw2a"
      }
    },
    {
      "cell_type": "markdown",
      "source": [
        "Τι έχουμε μάθει ως εδώ:\n",
        "\n",
        "###**Για την Python**:\n",
        "* Ποιοι είναι οι ιππότες που λένε νι\n",
        "\n",
        "###**Για τα δεδομένα:**\n",
        "\n",
        "* τα δεδομένα μας τοποθετούνται σε **μεταβλητές**\n",
        "* οι μεταβλητές αποτελούνται από ένα **όνομα** και μια **τιμή**\n",
        "* δημιουργούμε μια μεταβλητή συνδέοντας το όνομά της με την τιμή της με το σύμβολο του **ίσον** (**=**)\n",
        "* τα ονόματα των μεταβλητών υπόκεινται σε **περιορισμούς**, όσο αφορά τους χαρακτήρες που μπορούν να περιέχουν και με τους οποίους μπορούν να αρχίζουν\n",
        "* είναι καλή πρακτική, τα ονόματα των μεταβλητών να είναι **περιγραφικά** και **ούτε μικρά ούτε μεγάλα**\n",
        "\n",
        "###**Για τους τύπους των μεταβλητών**:\n",
        "\n",
        "* **integer** (**int**): ακέραιος αριθμός\n",
        "* **float** (**float**): δεκαδικός αριθμός\n",
        "* **string** (**str**): συμβολοσειρά - μέσα **σε εισαγωγικά**\n",
        "* **boolean** (**bool**): τιμές True/False\n",
        "* **list** (**list**): συλλογές τιμών οποιουδήποτε τύπου, ακόμα και μεταβλητές - διαχωρίζονται με κόμμα και μπαίνουν μέσα **σε square brackets**\n",
        "* **dictionary** (**dict**): ομάδες ζευγών μεταβλητών (keys και values) - διαχωρίζονται με κόμμα και μπαίνουν μέσα **σε curly brackets** - τα keys δεν μπορούν να είναι λίστες\n",
        "\n",
        "###**Για τους τελεστές (operators)**:\n",
        "\n",
        "* **μαθηματικοί τελεστές**: με αυτούς εκτελούμε μαθηματικές πράξεις (+, -, \\*, /, //, %, \\*\\*)\n",
        "* **συγκριτικοί τελεστές**: με αυτούς συγκρίνουμε δεδομένα - το αποτέλεσμα της σύγκρισης είναι True ή False (==, !=, <, <=, >, >=)\n",
        "\n",
        "###**Για την επεξεργασία των δεδομένων**:\n",
        "\n",
        "* **functions**: κομμάτια κώδικα που εκτελούν κάποιες εργασίες (**print()**, **type()**, **int()**, **float()**, **str()**, **len()**, κλπ.). Τα functions καλούνται με το όνομά τους και περιλαμβάνουν παρενθέσεις που δέχονται παραμέτρους.\n",
        "* **methods**: όπως τα functions αλλά επειδή αναφέρονται σε συγκεκριμένα αντικείμενα η σύνταξή τους είναι διαφορετική: <όνομα αντικειμένου>.<όνομα μεθόδου>(<παράμετροι>)\n",
        "\n",
        "Είδαμε μερικές build-in μεθόδους για τις λίστες, όπως π.χ. την **append()** και την **sort()**, και τη μέθοδο **replace()** για strings."
      ],
      "metadata": {
        "id": "HMnH1xbv-6Fr"
      }
    },
    {
      "cell_type": "markdown",
      "source": [
        "###**Τι μπορούμε να κάνουμε με όσα έχουμε μάθει σε μόλις 1 εβδομάδα:**\n",
        "\n",
        "* να γράφουμε **comments** στον κώδικά μας\n",
        "* να βρίσκουμε τι φταίει αν ο κώδικάς μας δεν τρέχει (**errors**, **Stack Overflow**)\n",
        "* να φτιάχνουμε **μεταβλητές** διαφόρων τύπων δεδομένων\n",
        "* να φτιάχνουμε σωστά και εύχρηστα **ονόματα μεταβλητών**\n",
        "* να **τυπώνουμε** αποτελέσματα στην οθόνη\n",
        "* να κάνουμε **μετατροπές** μεταξύ ακεραίων, δεκαδικών και συμβολοσειρών (str)\n",
        "* να κάνουμε αριθμητικές **πράξεις**\n",
        "* να επεξεργαζόμαστε **strings**\n",
        "* να δημιουργούμε και να επεξεργαζόμαστε **λίστες**\n",
        "* να δημιουργούμε και να επεξεργαζόμαστε **λεξικά** (dictionaries)\n",
        "* να **συγκρίνουμε** μεταβλητές"
      ],
      "metadata": {
        "id": "EAIg84KV8X7Y"
      }
    }
  ]
}